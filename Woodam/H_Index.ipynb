{
  "nbformat": 4,
  "nbformat_minor": 0,
  "metadata": {
    "colab": {
      "provenance": [],
      "authorship_tag": "ABX9TyMIwrKYUjNibVCtFmjbFhMU",
      "include_colab_link": true
    },
    "kernelspec": {
      "name": "python3",
      "display_name": "Python 3"
    },
    "language_info": {
      "name": "python"
    }
  },
  "cells": [
    {
      "cell_type": "markdown",
      "metadata": {
        "id": "view-in-github",
        "colab_type": "text"
      },
      "source": [
        "<a href=\"https://colab.research.google.com/github/WHYS-TEAM/Coding_study/blob/main/Woodam/H_Index.ipynb\" target=\"_parent\"><img src=\"https://colab.research.google.com/assets/colab-badge.svg\" alt=\"Open In Colab\"/></a>"
      ]
    },
    {
      "cell_type": "markdown",
      "source": [
        "# H_Index \n",
        "* https://school.programmers.co.kr/learn/courses/30/lessons/42747\n",
        "\n",
        "## 로직 \n",
        "1. 정렬을 한다 \n",
        "2. MAX값부터 작은 값까지 차례대로 개수를 센다. \n",
        "3. 그 다음값이 줄어들면 끝내기 \n"
      ],
      "metadata": {
        "id": "QlZANoqJfeLU"
      }
    },
    {
      "cell_type": "markdown",
      "source": [
        "## 1차 풀이\n",
        "* 막풀어서 예시는 통과 / 테스트는 2개만 통과\n",
        "* 아마도 시간 복잡도 이슈. \n",
        "* 시간 복잡도 : O(n^2)"
      ],
      "metadata": {
        "id": "AtvOHbPgfa75"
      }
    },
    {
      "cell_type": "code",
      "source": [
        "problem = [3, 0, 6, 1, 5]\t"
      ],
      "metadata": {
        "id": "SIiCMelAYt_O"
      },
      "execution_count": 23,
      "outputs": []
    },
    {
      "cell_type": "code",
      "source": [
        "from copy import copy\n",
        "def cnt_value (value, citations) :\n",
        "    count = len([i for i in citations if i >= value])\n",
        "    if count >= value :\n",
        "        return value\n",
        "    return 0\n",
        "\n",
        "def solution(citations):\n",
        "    a = citations.copy()\n",
        "    cit_list =[]\n",
        "    for i in range(len(a)) :\n",
        "        standard = max(a)\n",
        "        print('standard',standard)\n",
        "        h_value = cnt_value(standard, citations)\n",
        "        print('h_value',h_value)\n",
        "        cit_list.append(h_value)\n",
        "        a.remove(standard)\n",
        "    \n",
        "    answer = max(cit_list)\n",
        "    return answer"
      ],
      "metadata": {
        "id": "OWTRocdcXnNr"
      },
      "execution_count": 32,
      "outputs": []
    },
    {
      "cell_type": "code",
      "source": [
        "solution(problem)"
      ],
      "metadata": {
        "colab": {
          "base_uri": "https://localhost:8080/"
        },
        "id": "FUeEsHdqY7j6",
        "outputId": "432a927a-6cb7-46e5-aceb-f25963a370d7"
      },
      "execution_count": 33,
      "outputs": [
        {
          "output_type": "stream",
          "name": "stdout",
          "text": [
            "standard 6\n",
            "h_value 0\n",
            "standard 5\n",
            "h_value 0\n",
            "standard 3\n",
            "h_value 3\n",
            "standard 1\n",
            "h_value 1\n",
            "standard 0\n",
            "h_value 0\n"
          ]
        },
        {
          "output_type": "execute_result",
          "data": {
            "text/plain": [
              "3"
            ]
          },
          "metadata": {},
          "execution_count": 33
        }
      ]
    },
    {
      "cell_type": "markdown",
      "source": [
        "## 2차 풀이\n",
        "* 본래 의도대로 풀음\n",
        "* 시간 복잡도 : O(nlogn)"
      ],
      "metadata": {
        "id": "BY_RjrC_fRTh"
      }
    },
    {
      "cell_type": "code",
      "source": [
        "def solution4(citations):\n",
        "    citations = sorted(citations)\n",
        "    print('sorted_list:', citations)\n",
        "    leng = len(citations)\n",
        "    print('length :', leng)\n",
        "    for i in range(leng):\n",
        "      print('citations', citations[i])\n",
        "      print('leng-i :', leng-i)\n",
        "      print('\\n')\n",
        "      if citations[i] >= leng-i:\n",
        "        return leng-i\n",
        "    return 0\n",
        "\n",
        "solution4(problem)"
      ],
      "metadata": {
        "colab": {
          "base_uri": "https://localhost:8080/"
        },
        "id": "--vt_My2d2Lc",
        "outputId": "aafd7b7e-cbcf-41c2-9486-5d5aecf37177"
      },
      "execution_count": 54,
      "outputs": [
        {
          "output_type": "stream",
          "name": "stdout",
          "text": [
            "sorted_list: [0, 1, 3, 5, 6]\n",
            "length : 5\n",
            "citations 0\n",
            "leng-i : 5\n",
            "\n",
            "\n",
            "citations 1\n",
            "leng-i : 4\n",
            "\n",
            "\n",
            "citations 3\n",
            "leng-i : 3\n",
            "\n",
            "\n"
          ]
        },
        {
          "output_type": "execute_result",
          "data": {
            "text/plain": [
              "3"
            ]
          },
          "metadata": {},
          "execution_count": 54
        }
      ]
    },
    {
      "cell_type": "markdown",
      "source": [
        "## CHAT_GPT 답변\n",
        "* ~~제정신인가 ...~~\n",
        "* sort() 때문에 시간 복잡도 : O(nlogn)"
      ],
      "metadata": {
        "id": "gKQxok7GfOhh"
      }
    },
    {
      "cell_type": "code",
      "source": [
        "def solution2(citations):\n",
        "    citations.sort(reverse=True)\n",
        "    print(citations)\n",
        "    answer = max(map(min, enumerate(citations, start=1)))\n",
        "    print( map(min, enumerate(citations, start =1)))\n",
        "    return answer"
      ],
      "metadata": {
        "id": "ys7q6KlzY-DT"
      },
      "execution_count": 40,
      "outputs": []
    }
  ]
}