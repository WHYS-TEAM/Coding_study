{
  "nbformat": 4,
  "nbformat_minor": 0,
  "metadata": {
    "colab": {
      "provenance": [],
      "authorship_tag": "ABX9TyMt0Lo9wKJ5nDK12EVHnVV7",
      "include_colab_link": true
    },
    "kernelspec": {
      "name": "python3",
      "display_name": "Python 3"
    },
    "language_info": {
      "name": "python"
    }
  },
  "cells": [
    {
      "cell_type": "markdown",
      "metadata": {
        "id": "view-in-github",
        "colab_type": "text"
      },
      "source": [
        "<a href=\"https://colab.research.google.com/github/WHYS-TEAM/Coding_study/blob/main/Woodam/230528_Network.ipynb\" target=\"_parent\"><img src=\"https://colab.research.google.com/assets/colab-badge.svg\" alt=\"Open In Colab\"/></a>"
      ]
    },
    {
      "cell_type": "markdown",
      "source": [
        "BFS는 Queue를 사용하면 되고, DFS는 Stack을 사용하면 됨 \n",
        "\n",
        "- 네트워크 문제는 DFS와 BFS 둘 다 적용 가능합니다. 하지만 검색 대상 그래프가 크거나 경로의 특징을 저장해둬야 하는 문제는 DFS를, 검색 대상의 규모가 크지 않고 최단거리를 구해야 하는 문제는 BFS가 유리합니다.\n",
        "\n",
        "- DFS는 스택 또는 재귀함수로 구현하고 BFS는 큐를 이용해서 구현합니다.\n",
        "\n",
        "\n",
        "Stack\n",
        "* FILO, LIFO\n",
        "* 접시 쌓기\n",
        "\n",
        "Queue\n",
        "* FIFO\n",
        "* 줄서기"
      ],
      "metadata": {
        "id": "Qw_QueCZoky6"
      }
    },
    {
      "cell_type": "code",
      "source": [
        "def bfs(graph, start_node):\n",
        "    visit = list()\n",
        "    queue = list()\n",
        "\n",
        "    queue.append(start_node)\n",
        "\n",
        "    while queue:\n",
        "        node = queue.pop(0)\n",
        "        if node not in visit:\n",
        "            visit.append(node)\n",
        "            queue.extend(graph[node])\n",
        "\n",
        "    return visit\n",
        "\n",
        "\n",
        "def dfs(graph, start_node):\n",
        "    visit = list()\n",
        "    stack = list()\n",
        "\n",
        "    stack.append(start_node)\n",
        "\n",
        "    while stack:\n",
        "        node = stack.pop()\n",
        "        if node not in visit:\n",
        "            visit.append(node)\n",
        "            stack.extend(graph[node])\n",
        "\n",
        "    return visit\n",
        "\n",
        "\n",
        "if __name__ == \"__main__\":\n",
        "    graph = {\n",
        "        'A': ['B'],\n",
        "        'B': ['A', 'C', 'H'],\n",
        "        'C': ['B', 'D'],\n",
        "        'D': ['C', 'E', 'G'],\n",
        "        'E': ['D', 'F'],\n",
        "        'F': ['E'],\n",
        "        'G': ['D'],\n",
        "        'H': ['B', 'I', 'J', 'M'],\n",
        "        'I': ['H'],\n",
        "        'J': ['H', 'K'],\n",
        "        'K': ['J', 'L'],\n",
        "        'L': ['K'],\n",
        "        'M': ['H']\n",
        "    }\n",
        "\n",
        "    print(bfs(graph, 'A'))\n",
        "    print(dfs(graph, 'A'))"
      ],
      "metadata": {
        "colab": {
          "base_uri": "https://localhost:8080/"
        },
        "id": "ZqpD0S9yq0ZD",
        "outputId": "89b10088-3091-4e37-d3a5-eb429765f0d3"
      },
      "execution_count": 7,
      "outputs": [
        {
          "output_type": "stream",
          "name": "stdout",
          "text": [
            "['A', 'B', 'C', 'H', 'D', 'I', 'J', 'M', 'E', 'G', 'K', 'F', 'L']\n",
            "['A', 'B', 'H', 'M', 'J', 'K', 'L', 'I', 'C', 'D', 'G', 'E', 'F']\n"
          ]
        }
      ]
    },
    {
      "cell_type": "markdown",
      "source": [
        "## 네트워크\n",
        "* BFS/DFS\n",
        "* https://school.programmers.co.kr/learn/courses/30/lessons/43162"
      ],
      "metadata": {
        "id": "-NaVH4nJvuZI"
      }
    },
    {
      "cell_type": "code",
      "source": [
        "## 일반적인 BFS/DFS문제와 같으나\n",
        "## BFS/DFS 공식 중간에 자신이 아닌 다른 컴퓨터와의 연결확인 \n",
        "## 그리고 방문 체크가 포인트\n",
        "\n",
        "def solution(n,computers):\n",
        "    answer = 0\n",
        "    visited = [False for i in range(n)] # 초기화\n",
        "    for com in range(n):\n",
        "        # 방문하지 않았다면\n",
        "        if visited[com] == False : \n",
        "            BFS(n, computers, com, visited)\n",
        "            answer +=1\n",
        "    return answer\n",
        "\n",
        "def BFS(n, computers, com, visited): \n",
        "    visited[com] = True\n",
        "    queue = []\n",
        "    queue.append(com)\n",
        "    while queue:\n",
        "        com = queue.pop(0)\n",
        "        visited[com] = True\n",
        "        for connect in range(n):\n",
        "            #자기 자신이 아니라 다른 컴퓨터와 1이면\n",
        "            if connect != com and computers[com][connect] == 1 : \n",
        "                #그리고 방문하지 않았다면\n",
        "                if visited[connect] == False: \n",
        "                    queue.append(connect)"
      ],
      "metadata": {
        "id": "uIbZe3UoszZc"
      },
      "execution_count": 8,
      "outputs": []
    },
    {
      "cell_type": "code",
      "source": [],
      "metadata": {
        "id": "RhFt5cHppf-8"
      },
      "execution_count": null,
      "outputs": []
    }
  ]
}