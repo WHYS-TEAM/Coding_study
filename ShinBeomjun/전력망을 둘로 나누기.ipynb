{
 "cells": [
  {
   "cell_type": "code",
   "execution_count": 6,
   "id": "888b7ceb",
   "metadata": {},
   "outputs": [],
   "source": [
    "# BFS\n",
    "def node_counter(network, start):\n",
    "    visited = []\n",
    "    visited.append(start)\n",
    "    queue = []\n",
    "    queue.append(start)\n",
    "    cnt = 0 # 연결된 node 개수 카운트\n",
    "    while queue:\n",
    "        node = queue.pop(0)\n",
    "        visited.append(node)\n",
    "        cnt += 1\n",
    "        for nnode in network[node]:\n",
    "            if nnode not in visited:\n",
    "                queue.append(nnode)\n",
    "    return cnt\n",
    "\n",
    "def solution(n, wires):\n",
    "    answer = -1\n",
    "    # wire 하나씩 제외하면서 network 구성\n",
    "    min_diff = 1e8\n",
    "    for i in range(len(wires)):\n",
    "        wires_new = wires[:i] + wires[i+1:]\n",
    "        start_node1, start_node2 = wires[i] # 탐색 시작 노드 지정\n",
    "        # network list 생성\n",
    "        network = [[] for _ in range(n+1)]    \n",
    "        for wire in wires_new:\n",
    "            network[wire[0]].append(wire[1])\n",
    "            network[wire[1]].append(wire[0])\n",
    "        # 연결된 노드 개수 차이의 최소값 계산\n",
    "        diff = abs(node_counter(network, start_node1) - node_counter(network, start_node2))\n",
    "        if diff < min_diff:\n",
    "            min_diff = diff\n",
    "    answer = min_diff   \n",
    "    return answer"
   ]
  }
 ],
 "metadata": {
  "kernelspec": {
   "display_name": "Python 3 (ipykernel)",
   "language": "python",
   "name": "python3"
  },
  "language_info": {
   "codemirror_mode": {
    "name": "ipython",
    "version": 3
   },
   "file_extension": ".py",
   "mimetype": "text/x-python",
   "name": "python",
   "nbconvert_exporter": "python",
   "pygments_lexer": "ipython3",
   "version": "3.9.7"
  }
 },
 "nbformat": 4,
 "nbformat_minor": 5
}
