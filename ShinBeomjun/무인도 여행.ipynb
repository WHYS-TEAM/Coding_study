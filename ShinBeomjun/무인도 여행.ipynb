{
 "cells": [
  {
   "cell_type": "code",
   "execution_count": 6,
   "id": "888b7ceb",
   "metadata": {},
   "outputs": [],
   "source": [
    "import sys\n",
    "sys.setrecursionlimit(10000) # 재귀 호출 제한 10000으로 설정(런타임 에러 방지)\n",
    "\n",
    "def dfs(x,y):\n",
    "    # 조건1: maps 범위 이내일 때, 'X' 아닐 때\n",
    "    if (x < N) & (x >= 0) & (y < M) & (y >= 0):\n",
    "        if maps_[x][y] != 'X':\n",
    "            # 현재 값 저장 후, 'X'로 재할당\n",
    "            ret = int(maps_[x][y])  \n",
    "            maps_[x][y] = 'X'\n",
    "            return ret + dfs(x-1,y) + dfs(x+1,y) + dfs(x,y-1) + dfs(x,y+1) # 상하좌우 리턴값의 총합\n",
    "    return 0\n",
    "\n",
    "def solution(maps):\n",
    "    global maps_\n",
    "    global N\n",
    "    global M\n",
    "    answer = []\n",
    "    \n",
    "    # maps형변환 STRING -> LIST\n",
    "    maps_ = []\n",
    "    for i in range(len(maps)):\n",
    "        maps_.append(list(maps[i]))\n",
    "    \n",
    "    N, M = len(maps_), len(maps_[0])  # maps_ 크기 정의\n",
    "    for x in range(N):\n",
    "        for y in range(M):\n",
    "            if maps_[x][y] != 'X': # 'X'가 아닐 때 dfs 함수 호출\n",
    "                res = dfs(x,y)\n",
    "                answer.append(res)\n",
    "    # 빈 리스트이면 [-1] 리턴\n",
    "    if answer == []:\n",
    "        return [-1]\n",
    "    return sorted(answer) # 정렬 후 제출"
   ]
  }
 ],
 "metadata": {
  "kernelspec": {
   "display_name": "Python 3 (ipykernel)",
   "language": "python",
   "name": "python3"
  },
  "language_info": {
   "codemirror_mode": {
    "name": "ipython",
    "version": 3
   },
   "file_extension": ".py",
   "mimetype": "text/x-python",
   "name": "python",
   "nbconvert_exporter": "python",
   "pygments_lexer": "ipython3",
   "version": "3.9.7"
  }
 },
 "nbformat": 4,
 "nbformat_minor": 5
}
