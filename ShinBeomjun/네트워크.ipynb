{
 "cells": [
  {
   "cell_type": "code",
   "execution_count": 1,
   "id": "769c0fe3",
   "metadata": {},
   "outputs": [],
   "source": [
    "#https://school.programmers.co.kr/learn/courses/30/lessons/43162?language=python3\n",
    "\n",
    "# 로직\n",
    "# 1. bfs 기본 함수 구현\n",
    "# 2. 0번 노드 부터  n-1번 노드 까지 bfs를 반복하면서 끊어지는 지점의 개수 카운트\n",
    "\n",
    "def solution(n, computers):\n",
    "    # start: bfs 시작 노드 위치\n",
    "    # visited: 이미 처리된 노드\n",
    "    def bfs(start, visited):\n",
    "        queue = []\n",
    "        queue.append(start)\n",
    "        while queue:\n",
    "            node = queue.pop(0)\n",
    "            visited.append(node)\n",
    "            for nnode in network[node]:\n",
    "                if nnode not in visited:\n",
    "                    queue.append(nnode)\n",
    "        return visited  # 갱신된 visited 반환\n",
    "\n",
    "    answer = 0\n",
    "    visited = []\n",
    "    # 행렬 -> 그래프\n",
    "    network = [[] for _ in range(n)]    \n",
    "    for i in range(len(computers)):\n",
    "        for j in range(len(computers)):\n",
    "            if (i != j) & (computers[i][j] == 1):\n",
    "                network[i].append(j)\n",
    "    # 노드 전체에 걸쳐 bfs 반복 \n",
    "    for i in range(n):\n",
    "        if i not in visited:\n",
    "            visited = bfs(i, visited)\n",
    "            answer += 1 # bfs 호출 횟수 카운트\n",
    "    return answer"
   ]
  }
 ],
 "metadata": {
  "kernelspec": {
   "display_name": "Python 3 (ipykernel)",
   "language": "python",
   "name": "python3"
  },
  "language_info": {
   "codemirror_mode": {
    "name": "ipython",
    "version": 3
   },
   "file_extension": ".py",
   "mimetype": "text/x-python",
   "name": "python",
   "nbconvert_exporter": "python",
   "pygments_lexer": "ipython3",
   "version": "3.9.7"
  }
 },
 "nbformat": 4,
 "nbformat_minor": 5
}
