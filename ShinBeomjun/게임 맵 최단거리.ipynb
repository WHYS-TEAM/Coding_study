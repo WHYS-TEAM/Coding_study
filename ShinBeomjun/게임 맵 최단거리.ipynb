{
 "cells": [
  {
   "cell_type": "code",
   "execution_count": 8,
   "id": "f97d612d",
   "metadata": {},
   "outputs": [],
   "source": [
    "def solution(maps):\n",
    "    answer = -1\n",
    "    dxs = [0, 0, 1, -1]\n",
    "    dys = [1, -1, 0, 0]\n",
    "    queue = []\n",
    "    queue.append([0,0]) # 시작 위치 정보\n",
    "    xSize, ySize = len(maps[0]), len(maps) # 주어진 배열의 x, y 크기\n",
    "    flag = False # 목적지 도착 여부\n",
    "    # 출발 가능 여부 체크\n",
    "    if maps[0][0] == 0:\n",
    "        return answer\n",
    "    if maps[ySize-1][xSize-1] == 0:\n",
    "        return answer\n",
    "    if (maps[ySize-2][xSize-1] == 0) & (maps[ySize-1][xSize-2] == 0) & (maps[ySize-2][xSize-2] == 0):\n",
    "        return answer\n",
    "    # 출발지 되돌아오는 것 방지\n",
    "    maps[0][0] = 2\n",
    "    while queue:\n",
    "        # queue에서 curr:현재 위치, cnt:이동한 칸수 정보 받음\n",
    "        curr= queue.pop(0)\n",
    "        x, y = curr[0], curr[1]\n",
    "        # 결과 도달시 flag True, break\n",
    "        if (x == (xSize-1)) & (y == (ySize-1)):\n",
    "            flag = True\n",
    "            break    \n",
    "        # 이동하는 경우의 수(동서남북)\n",
    "        for i in range(4):\n",
    "            dx, dy = dxs[i], dys[i]\n",
    "            nx, ny = x+dx, y+dy\n",
    "            # 갈 수 있는 곳인 경우 queue에 추가\n",
    "            if (nx >= 0) & (nx < xSize) & (ny >= 0) & (ny < ySize):\n",
    "                if (maps[ny][nx] == 1):\n",
    "                    queue.append([nx, ny])\n",
    "                    maps[ny][nx] = maps[y][x] + 1\n",
    "    if flag:    \n",
    "        # 결과값 리턴\n",
    "        answer = maps[y][x] - 1\n",
    "    return answer"
   ]
  }
 ],
 "metadata": {
  "kernelspec": {
   "display_name": "Python 3 (ipykernel)",
   "language": "python",
   "name": "python3"
  },
  "language_info": {
   "codemirror_mode": {
    "name": "ipython",
    "version": 3
   },
   "file_extension": ".py",
   "mimetype": "text/x-python",
   "name": "python",
   "nbconvert_exporter": "python",
   "pygments_lexer": "ipython3",
   "version": "3.9.7"
  }
 },
 "nbformat": 4,
 "nbformat_minor": 5
}
