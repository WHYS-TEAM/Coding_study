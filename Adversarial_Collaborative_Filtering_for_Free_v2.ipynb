{
  "nbformat": 4,
  "nbformat_minor": 0,
  "metadata": {
    "colab": {
      "provenance": [],
      "gpuType": "L4",
      "machine_shape": "hm",
      "authorship_tag": "ABX9TyPGeOEpuNovWRY9y2cv4VzD",
      "include_colab_link": true
    },
    "kernelspec": {
      "name": "python3",
      "display_name": "Python 3"
    },
    "language_info": {
      "name": "python"
    },
    "accelerator": "GPU"
  },
  "cells": [
    {
      "cell_type": "markdown",
      "metadata": {
        "id": "view-in-github",
        "colab_type": "text"
      },
      "source": [
        "<a href=\"https://colab.research.google.com/github/WHYS-TEAM/Coding_study/blob/main/Adversarial_Collaborative_Filtering_for_Free_v2.ipynb\" target=\"_parent\"><img src=\"https://colab.research.google.com/assets/colab-badge.svg\" alt=\"Open In Colab\"/></a>"
      ]
    },
    {
      "cell_type": "markdown",
      "source": [
        "## Adversarial Collaborative Filtering for Free"
      ],
      "metadata": {
        "id": "4po2Ojn_8NGI"
      }
    },
    {
      "cell_type": "code",
      "source": [
        "#-*- coding:utf-8 -*-\n",
        "import numpy as np\n",
        "import pandas as pd\n",
        "import torch\n",
        "from torch.utils.data import Dataset, DataLoader, random_split\n",
        "import torch.nn as nn\n",
        "import torch.optim as optim\n",
        "import numpy as np\n",
        "import matplotlib.pyplot as plt\n",
        "from sklearn.metrics import mean_squared_error, mean_absolute_error\n",
        "from torch.utils.data import random_split\n",
        "from google.colab import drive\n",
        "drive.mount('/content/drive')"
      ],
      "metadata": {
        "colab": {
          "base_uri": "https://localhost:8080/"
        },
        "id": "dcUR0Nv7YUKw",
        "outputId": "4fbeb23d-e023-429d-85e6-263754521a7c"
      },
      "execution_count": null,
      "outputs": [
        {
          "output_type": "stream",
          "name": "stdout",
          "text": [
            "Drive already mounted at /content/drive; to attempt to forcibly remount, call drive.mount(\"/content/drive\", force_remount=True).\n"
          ]
        }
      ]
    },
    {
      "cell_type": "code",
      "source": [
        "path_data = '/content/drive/My Drive/Colab Notebooks/Naver_webtoon/'"
      ],
      "metadata": {
        "colab": {
          "base_uri": "https://localhost:8080/"
        },
        "id": "fVfSGFQkYVzF",
        "outputId": "676e8195-693d-48a6-cd9e-6fa1ee9e6abb"
      },
      "execution_count": null,
      "outputs": [
        {
          "output_type": "stream",
          "name": "stdout",
          "text": [
            "'Adversarial Collaborative Filtering for Free.ipynb'\n",
            "'Adversarial Collaborative Filtering for Free.pdf'\n",
            "'Adversarial Collaborative Filtering for Free_v2.ipynb'\n",
            "'A Lightweight Method for Modeling Confidence in Recommendations with Learned Beta Distributions.ipynb'\n",
            "'A Lightweight Method for Modeling Confidence in Recommendations with Learned Beta Distributions.pdf'\n",
            " BPR.ipynb\n",
            " _lbd_model.pth\n",
            " model.pth\n",
            " movies.dat\n",
            " ratings.dat\n",
            " README\n",
            " users.dat\n",
            "'과제 문제.docx'\n"
          ]
        }
      ]
    },
    {
      "cell_type": "code",
      "source": [
        "# 파일 경로\n",
        "ratings_file_path = path_data + 'ratings.dat'\n",
        "users_file_path = path_data + 'users.dat'\n",
        "movies_file_path = path_data + 'movies.dat'"
      ],
      "metadata": {
        "id": "uSgXCj81buth"
      },
      "execution_count": null,
      "outputs": []
    },
    {
      "cell_type": "code",
      "source": [
        "movies_file_path"
      ],
      "metadata": {
        "colab": {
          "base_uri": "https://localhost:8080/",
          "height": 35
        },
        "id": "sDsixuGycO5D",
        "outputId": "e53e792a-98c8-4afa-84a9-420113479083"
      },
      "execution_count": null,
      "outputs": [
        {
          "output_type": "execute_result",
          "data": {
            "text/plain": [
              "'/content/drive/My Drive/Colab Notebooks/Naver_webtoon/movies.dat'"
            ],
            "application/vnd.google.colaboratory.intrinsic+json": {
              "type": "string"
            }
          },
          "metadata": {},
          "execution_count": 6
        }
      ]
    },
    {
      "cell_type": "code",
      "source": [
        "movies = pd.read_csv(movies_file_path, sep='::', engine='python', names=['MovieID', 'Title', 'Genres'], encoding='ISO-8859-1')\n",
        "ratings = pd.read_csv(ratings_file_path, sep='::', engine='python', names=['UserID', 'MovieID', 'Rating', 'Timestamp'], encoding='ISO-8859-1')\n",
        "users = pd.read_csv(users_file_path, sep='::', engine='python', names=['UserID', 'Gender', 'Age', 'Occupation', 'Zip-code'], encoding='ISO-8859-1')"
      ],
      "metadata": {
        "id": "Zbh3e74FcpqG"
      },
      "execution_count": null,
      "outputs": []
    },
    {
      "cell_type": "code",
      "source": [
        "# 데이터 전처리\n",
        "ratings = ratings[['UserID', 'MovieID', 'Rating']]\n",
        "\n",
        "# User와 Movie의 고유 ID 생성\n",
        "user_ids = ratings['UserID'].unique()\n",
        "movie_ids = ratings['MovieID'].unique()\n",
        "user_id_map = {id: idx for idx, id in enumerate(user_ids)}\n",
        "movie_id_map = {id: idx for idx, id in enumerate(movie_ids)}\n",
        "\n",
        "ratings['UserID'] = ratings['UserID'].map(user_id_map)\n",
        "ratings['MovieID'] = ratings['MovieID'].map(movie_id_map)\n",
        "\n",
        "# 데이터셋 클래스 정의\n",
        "class MovielensDataset(Dataset):\n",
        "    def __init__(self, ratings):\n",
        "        self.users = torch.tensor(ratings['UserID'].values, dtype=torch.long)\n",
        "        self.movies = torch.tensor(ratings['MovieID'].values, dtype=torch.long)\n",
        "        self.ratings = torch.tensor(ratings['Rating'].values, dtype=torch.float32)\n",
        "\n",
        "    def __len__(self):\n",
        "        return len(self.ratings)\n",
        "\n",
        "    def __getitem__(self, idx):\n",
        "        return self.users[idx], self.movies[idx], self.ratings[idx]\n",
        "\n",
        "dataset = MovielensDataset(ratings)\n",
        "\n",
        "# 시드 고정\n",
        "seed = 777\n",
        "torch.manual_seed(seed)\n",
        "\n",
        "\n",
        "# 데이터셋 분할 (80% train, 20% test)\n",
        "train_size = int(0.8 * len(dataset))\n",
        "test_size = len(dataset) - train_size\n",
        "train_dataset, test_dataset = random_split(dataset, [train_size, test_size])\n",
        "\n",
        "train_loader = DataLoader(train_dataset, batch_size=256, shuffle=True)\n",
        "test_loader = DataLoader(test_dataset, batch_size=256, shuffle=False)\n",
        "\n",
        "# SharpCF 모델 정의\n",
        "class SharpCF(nn.Module):\n",
        "    def __init__(self, num_users, num_items, embedding_dim):\n",
        "        super(SharpCF, self).__init__()\n",
        "        self.user_embedding = nn.Embedding(num_users, embedding_dim)\n",
        "        self.item_embedding = nn.Embedding(num_items, embedding_dim)\n",
        "\n",
        "    def forward(self, user, item):\n",
        "        user_embedded = self.user_embedding(user)\n",
        "        item_embedded = self.item_embedding(item)\n",
        "        return (user_embedded * item_embedded).sum(1)\n",
        "\n",
        "# 모델 초기화\n",
        "num_users = len(user_ids)\n",
        "num_items = len(movie_ids)\n",
        "embedding_dim = 128\n",
        "model = SharpCF(num_users, num_items, embedding_dim).cuda()\n",
        "\n",
        "# 손실 함수 및 최적화기 정의\n",
        "criterion = nn.MSELoss()\n",
        "optimizer = optim.Adam(model.parameters(), lr=0.001)\n",
        "\n",
        "# Trajectory Loss 계산을 위한 변수\n",
        "T_start = 20\n",
        "lambda_trajectory = 0.1\n",
        "past_weights = None\n",
        "\n",
        "# 모델 학습 루프\n",
        "def train(model, train_loader, test_loader, optimizer, criterion, num_epochs=200, save_path='/content/drive/My Drive/path_to_your_model/model.pth'):\n",
        "    train_losses = []\n",
        "    test_losses = []\n",
        "    past_outputs = None\n",
        "    for epoch in range(num_epochs):\n",
        "        model.train()\n",
        "        total_train_loss = 0\n",
        "        for users, movies, ratings in train_loader:\n",
        "            users, movies, ratings = users.cuda(), movies.cuda(), ratings.cuda()\n",
        "\n",
        "            optimizer.zero_grad()\n",
        "            outputs = model(users, movies)\n",
        "            loss = criterion(outputs, ratings)\n",
        "\n",
        "            if epoch > T_start:\n",
        "              if past_outputs is None or past_outputs.size() != outputs.size():\n",
        "                past_outputs = torch.zeros_like(outputs)\n",
        "              trajectory_loss = lambda_trajectory * ((outputs - past_outputs) ** 2).sum()\n",
        "              loss += trajectory_loss\n",
        "              past_outputs = outputs.clone().detach()\n",
        "\n",
        "            loss.backward()\n",
        "            optimizer.step()\n",
        "\n",
        "            total_train_loss += loss.item()\n",
        "\n",
        "        avg_train_loss = total_train_loss / len(train_loader)\n",
        "        train_losses.append(avg_train_loss)\n",
        "\n",
        "        model.eval()\n",
        "        total_test_loss = 0\n",
        "        with torch.no_grad():\n",
        "            for users, movies, ratings in test_loader:\n",
        "                users, movies, ratings = users.cuda(), movies.cuda(), ratings.cuda()\n",
        "                outputs = model(users, movies)\n",
        "                loss = criterion(outputs, ratings)\n",
        "                total_test_loss += loss.item()\n",
        "\n",
        "        avg_test_loss = total_test_loss / len(test_loader)\n",
        "        test_losses.append(avg_test_loss)\n",
        "\n",
        "        print(f'Epoch {epoch+1}, Train Loss: {avg_train_loss}, Test Loss: {avg_test_loss}')\n",
        "\n",
        "    return train_losses, test_losses\n",
        "\n",
        "# 모델 학습\n",
        "train_losses, test_losses = train(model, train_loader, test_loader, optimizer, criterion)\n",
        "\n",
        "# 학습 과정의 손실 함수 변화 시각화\n",
        "plt.figure(figsize=(12, 6))\n",
        "plt.plot(train_losses, label='Train Loss')\n",
        "plt.plot(test_losses, label='Test Loss')\n",
        "plt.xlabel('Epochs')\n",
        "plt.ylabel('Loss')\n",
        "plt.title('Loss Curves')\n",
        "plt.legend()\n",
        "plt.grid(True)\n",
        "plt.show()"
      ],
      "metadata": {
        "colab": {
          "base_uri": "https://localhost:8080/",
          "height": 1000
        },
        "id": "blLuv6ckZoBC",
        "outputId": "0519b75b-fcc0-408f-e4be-b52b9a8bd0a1"
      },
      "execution_count": null,
      "outputs": [
        {
          "output_type": "stream",
          "name": "stdout",
          "text": [
            "Epoch 1, Train Loss: 123.2372118461155, Test Loss: 105.32576848295949\n",
            "Epoch 2, Train Loss: 80.096711961108, Test Loss: 80.25190009973238\n",
            "Epoch 3, Train Loss: 52.86396928056264, Test Loss: 62.4253592869205\n",
            "Epoch 4, Train Loss: 34.86771507958762, Test Loss: 48.563190699233424\n",
            "Epoch 5, Train Loss: 21.82631990990422, Test Loss: 36.1568118361256\n",
            "Epoch 6, Train Loss: 12.439343056767244, Test Loss: 26.493490002039447\n",
            "Epoch 7, Train Loss: 7.0906412241478725, Test Loss: 20.34621452736428\n",
            "Epoch 8, Train Loss: 4.271631042162578, Test Loss: 16.37514362066908\n",
            "Epoch 9, Train Loss: 2.7212571261864174, Test Loss: 13.713083313554144\n",
            "Epoch 10, Train Loss: 1.8454383918282624, Test Loss: 11.87382218295046\n",
            "Epoch 11, Train Loss: 1.3427839041785865, Test Loss: 10.58049426176359\n",
            "Epoch 12, Train Loss: 1.0481416680495554, Test Loss: 9.66422707284503\n",
            "Epoch 13, Train Loss: 0.8709201274662542, Test Loss: 8.9917781566415\n",
            "Epoch 14, Train Loss: 0.7588157893962305, Test Loss: 8.499027946111186\n",
            "Epoch 15, Train Loss: 0.6846760455530878, Test Loss: 8.117169719217989\n",
            "Epoch 16, Train Loss: 0.6323680002587924, Test Loss: 7.842135354990849\n",
            "Epoch 17, Train Loss: 0.5945678858595328, Test Loss: 7.600649267816178\n",
            "Epoch 18, Train Loss: 0.564370741227538, Test Loss: 7.42796247755475\n",
            "Epoch 19, Train Loss: 0.5412410565926643, Test Loss: 7.269169952558435\n",
            "Epoch 20, Train Loss: 0.5203343652908572, Test Loss: 7.146950704057503\n",
            "Epoch 21, Train Loss: 0.5040330950621222, Test Loss: 7.033938867051888\n",
            "Epoch 22, Train Loss: 37.14711222584554, Test Loss: 6.991735480020723\n",
            "Epoch 23, Train Loss: 21.089097022400097, Test Loss: 6.594602894295207\n",
            "Epoch 24, Train Loss: 13.738644185923492, Test Loss: 6.317901490289537\n",
            "Epoch 25, Train Loss: 12.312733017780502, Test Loss: 6.095941496322222\n",
            "Epoch 26, Train Loss: 11.528829477417569, Test Loss: 5.909992174419296\n",
            "Epoch 27, Train Loss: 10.587078764128975, Test Loss: 5.762481002856399\n",
            "Epoch 28, Train Loss: 10.074749511705326, Test Loss: 5.619448758757023\n",
            "Epoch 29, Train Loss: 9.737264938104328, Test Loss: 5.501132557764078\n",
            "Epoch 30, Train Loss: 9.418505679165333, Test Loss: 5.394992800624779\n",
            "Epoch 31, Train Loss: 9.183541859714023, Test Loss: 5.297148310619852\n",
            "Epoch 32, Train Loss: 9.034794423188144, Test Loss: 5.212227985072319\n",
            "Epoch 33, Train Loss: 8.79326562292669, Test Loss: 5.125703228099267\n",
            "Epoch 34, Train Loss: 8.719078026135152, Test Loss: 5.040099905579901\n",
            "Epoch 35, Train Loss: 8.611634152101844, Test Loss: 4.964728432238254\n",
            "Epoch 36, Train Loss: 8.513878744379191, Test Loss: 4.896232418392016\n",
            "Epoch 37, Train Loss: 8.339530895859175, Test Loss: 4.823075982920654\n",
            "Epoch 38, Train Loss: 8.305086687445565, Test Loss: 4.762941001016466\n",
            "Epoch 39, Train Loss: 8.248244841588436, Test Loss: 4.6904362589501964\n",
            "Epoch 40, Train Loss: 8.165769252575748, Test Loss: 4.635735227628742\n",
            "Epoch 41, Train Loss: 8.054969958441424, Test Loss: 4.579490685401975\n",
            "Epoch 42, Train Loss: 8.054091610362418, Test Loss: 4.516593757187924\n",
            "Epoch 43, Train Loss: 7.9551920793183095, Test Loss: 4.454001237669259\n",
            "Epoch 44, Train Loss: 7.90714275936095, Test Loss: 4.404211741579158\n",
            "Epoch 45, Train Loss: 7.8424466368638015, Test Loss: 4.3412182803654\n",
            "Epoch 46, Train Loss: 7.7772183648607935, Test Loss: 4.296742928302502\n",
            "Epoch 47, Train Loss: 7.730157300133928, Test Loss: 4.235572889637764\n",
            "Epoch 48, Train Loss: 7.709925362183662, Test Loss: 4.1887745012712605\n",
            "Epoch 49, Train Loss: 7.598465015090435, Test Loss: 4.137415658634946\n",
            "Epoch 50, Train Loss: 7.5788218366436215, Test Loss: 4.089128919879494\n",
            "Epoch 51, Train Loss: 7.570697071608716, Test Loss: 4.036081121705682\n",
            "Epoch 52, Train Loss: 7.472015924356111, Test Loss: 3.9913814363577176\n",
            "Epoch 53, Train Loss: 7.4120525514476965, Test Loss: 3.946578082373685\n",
            "Epoch 54, Train Loss: 7.453450357921598, Test Loss: 3.895717677862748\n",
            "Epoch 55, Train Loss: 7.3580960705733345, Test Loss: 3.8515446333933974\n",
            "Epoch 56, Train Loss: 7.295824504096921, Test Loss: 3.805289623682456\n",
            "Epoch 57, Train Loss: 7.269460986229523, Test Loss: 3.762235702760994\n",
            "Epoch 58, Train Loss: 7.247198729811002, Test Loss: 3.71879564648699\n",
            "Epoch 59, Train Loss: 7.174874642683921, Test Loss: 3.6779535028635695\n",
            "Epoch 60, Train Loss: 7.134923419812057, Test Loss: 3.637345781868986\n",
            "Epoch 61, Train Loss: 7.100208920236589, Test Loss: 3.5891429204160294\n",
            "Epoch 62, Train Loss: 7.062747401605412, Test Loss: 3.557652164755575\n",
            "Epoch 63, Train Loss: 7.037280549014598, Test Loss: 3.509192597378245\n",
            "Epoch 64, Train Loss: 6.976152408756054, Test Loss: 3.470455713894056\n",
            "Epoch 65, Train Loss: 6.926979723300067, Test Loss: 3.433477845490741\n",
            "Epoch 66, Train Loss: 6.907970122778484, Test Loss: 3.390529899645949\n",
            "Epoch 67, Train Loss: 6.8758330108718235, Test Loss: 3.355793493025748\n",
            "Epoch 68, Train Loss: 6.827902281505514, Test Loss: 3.3167894275292107\n",
            "Epoch 69, Train Loss: 6.7580065702064935, Test Loss: 3.2784927187063504\n",
            "Epoch 70, Train Loss: 6.733538245209043, Test Loss: 3.2411329122760413\n",
            "Epoch 71, Train Loss: 6.738278874814014, Test Loss: 3.2073291707831575\n",
            "Epoch 72, Train Loss: 6.680887156164348, Test Loss: 3.1720324768434707\n",
            "Epoch 73, Train Loss: 6.57343064251422, Test Loss: 3.1420819454485804\n",
            "Epoch 74, Train Loss: 6.6166293192428425, Test Loss: 3.100781029904895\n",
            "Epoch 75, Train Loss: 6.56189794328376, Test Loss: 3.0722780392298\n",
            "Epoch 76, Train Loss: 6.531223581909599, Test Loss: 3.032973392235349\n",
            "Epoch 77, Train Loss: 6.479511387822572, Test Loss: 3.0074701917445874\n",
            "Epoch 78, Train Loss: 6.424126461386605, Test Loss: 2.9738938308432887\n",
            "Epoch 79, Train Loss: 6.409826449225212, Test Loss: 2.9384840464652955\n",
            "Epoch 80, Train Loss: 6.379666207085339, Test Loss: 2.912504104397181\n",
            "Epoch 81, Train Loss: 6.314586993676306, Test Loss: 2.8796968522584043\n",
            "Epoch 82, Train Loss: 6.294982581815884, Test Loss: 2.848498527656126\n",
            "Epoch 83, Train Loss: 6.242201409504647, Test Loss: 2.8191935168507762\n",
            "Epoch 84, Train Loss: 6.242457539548648, Test Loss: 2.7877000818776962\n",
            "Epoch 85, Train Loss: 6.16441776366548, Test Loss: 2.7619261715723122\n",
            "Epoch 86, Train Loss: 6.15136711473886, Test Loss: 2.7324358823964054\n",
            "Epoch 87, Train Loss: 6.1086047356966136, Test Loss: 2.7030272371018937\n",
            "Epoch 88, Train Loss: 6.075624862543986, Test Loss: 2.670738206342663\n",
            "Epoch 89, Train Loss: 6.033280203987678, Test Loss: 2.649202844066083\n",
            "Epoch 90, Train Loss: 6.020923706330478, Test Loss: 2.61575612509647\n",
            "Epoch 91, Train Loss: 5.979683616949973, Test Loss: 2.5925231005834495\n",
            "Epoch 92, Train Loss: 5.9278715543081875, Test Loss: 2.569344518891991\n",
            "Epoch 93, Train Loss: 5.882688069602883, Test Loss: 2.5374748087904946\n",
            "Epoch 94, Train Loss: 5.848125274106621, Test Loss: 2.517178055422995\n",
            "Epoch 95, Train Loss: 5.8575704604177545, Test Loss: 2.489674622902785\n",
            "Epoch 96, Train Loss: 5.788275522981327, Test Loss: 2.462678496337608\n",
            "Epoch 97, Train Loss: 5.7640583036194535, Test Loss: 2.4398890238283846\n",
            "Epoch 98, Train Loss: 5.728256492910672, Test Loss: 2.4147401741703454\n",
            "Epoch 99, Train Loss: 5.687346592135561, Test Loss: 2.3919440867650845\n",
            "Epoch 100, Train Loss: 5.646234132125449, Test Loss: 2.372133213845665\n",
            "Epoch 101, Train Loss: 5.624442844839334, Test Loss: 2.347080208151542\n",
            "Epoch 102, Train Loss: 5.6095470064966175, Test Loss: 2.3261970092573434\n",
            "Epoch 103, Train Loss: 5.555333471649058, Test Loss: 2.299106288444051\n",
            "Epoch 104, Train Loss: 5.509832208536408, Test Loss: 2.279928118371598\n",
            "Epoch 105, Train Loss: 5.494539045936697, Test Loss: 2.256840519892895\n",
            "Epoch 106, Train Loss: 5.457597678392572, Test Loss: 2.237127796920669\n",
            "Epoch 107, Train Loss: 5.4129474382711695, Test Loss: 2.2166759505906066\n",
            "Epoch 108, Train Loss: 5.3891201748423905, Test Loss: 2.199552448966619\n",
            "Epoch 109, Train Loss: 5.348072209117204, Test Loss: 2.1772899696284242\n",
            "Epoch 110, Train Loss: 5.326716725138312, Test Loss: 2.158117961090849\n",
            "Epoch 111, Train Loss: 5.271984981560051, Test Loss: 2.135166638342621\n",
            "Epoch 112, Train Loss: 5.259894321533784, Test Loss: 2.1173817436103626\n",
            "Epoch 113, Train Loss: 5.197483900793836, Test Loss: 2.1057764622561463\n",
            "Epoch 114, Train Loss: 5.198854389437787, Test Loss: 2.082410216788807\n",
            "Epoch 115, Train Loss: 5.1739480140799525, Test Loss: 2.063569901849303\n",
            "Epoch 116, Train Loss: 5.1111095187302515, Test Loss: 2.0435687856905904\n",
            "Epoch 117, Train Loss: 5.117237478666251, Test Loss: 2.028383964162958\n",
            "Epoch 118, Train Loss: 5.054281931997337, Test Loss: 2.0146353281367464\n",
            "Epoch 119, Train Loss: 5.003752434703683, Test Loss: 1.9946620942991409\n",
            "Epoch 120, Train Loss: 5.010592271407598, Test Loss: 1.9806255509176522\n",
            "Epoch 121, Train Loss: 4.976459999154641, Test Loss: 1.9587464488070945\n",
            "Epoch 122, Train Loss: 4.933566421251303, Test Loss: 1.9407669378973333\n",
            "Epoch 123, Train Loss: 4.9037352743929805, Test Loss: 1.930410010125631\n",
            "Epoch 124, Train Loss: 4.892306797563915, Test Loss: 1.9160037644378973\n",
            "Epoch 125, Train Loss: 4.838155004814963, Test Loss: 1.8972819238672476\n",
            "Epoch 126, Train Loss: 4.823376272781797, Test Loss: 1.8839355563873526\n",
            "Epoch 127, Train Loss: 4.762405178978591, Test Loss: 1.8693800323149736\n",
            "Epoch 128, Train Loss: 4.753835315362658, Test Loss: 1.8531766710683817\n",
            "Epoch 129, Train Loss: 4.736826830007903, Test Loss: 1.8445228679710641\n",
            "Epoch 130, Train Loss: 4.6879905057273765, Test Loss: 1.8265614748915748\n",
            "Epoch 131, Train Loss: 4.670149108117312, Test Loss: 1.814100715053051\n",
            "Epoch 132, Train Loss: 4.626255357715463, Test Loss: 1.8010001645978455\n",
            "Epoch 133, Train Loss: 4.580172332753299, Test Loss: 1.7896180143746574\n",
            "Epoch 134, Train Loss: 4.572167731292417, Test Loss: 1.7751803309716228\n",
            "Epoch 135, Train Loss: 4.535888549691198, Test Loss: 1.7621300723546607\n",
            "Epoch 136, Train Loss: 4.529709787149118, Test Loss: 1.7512573061696708\n",
            "Epoch 137, Train Loss: 4.472025584961006, Test Loss: 1.7372291891471199\n",
            "Epoch 138, Train Loss: 4.451444833994064, Test Loss: 1.7260342775403386\n",
            "Epoch 139, Train Loss: 4.4217279992344585, Test Loss: 1.7164736841340809\n",
            "Epoch 140, Train Loss: 4.387960076484632, Test Loss: 1.7069187832000616\n",
            "Epoch 141, Train Loss: 4.372861760972939, Test Loss: 1.6922903455736693\n",
            "Epoch 142, Train Loss: 4.331320364354744, Test Loss: 1.6782271674526927\n",
            "Epoch 143, Train Loss: 4.296696281326328, Test Loss: 1.6677664338475298\n",
            "Epoch 144, Train Loss: 4.286063404168674, Test Loss: 1.6575200838201187\n",
            "Epoch 145, Train Loss: 4.24988639667411, Test Loss: 1.6466358515917492\n",
            "Epoch 146, Train Loss: 4.210310539906405, Test Loss: 1.6408453031878947\n",
            "Epoch 147, Train Loss: 4.198790505004097, Test Loss: 1.6286812624358156\n",
            "Epoch 148, Train Loss: 4.152211601888226, Test Loss: 1.6182950962230067\n",
            "Epoch 149, Train Loss: 4.134164178516341, Test Loss: 1.6077481393923845\n",
            "Epoch 150, Train Loss: 4.129344941939746, Test Loss: 1.5980123712888459\n",
            "Epoch 151, Train Loss: 4.071196566311427, Test Loss: 1.5902771449759794\n",
            "Epoch 152, Train Loss: 4.060853984900491, Test Loss: 1.5844780313389382\n",
            "Epoch 153, Train Loss: 4.026432579019782, Test Loss: 1.5726379598193156\n",
            "Epoch 154, Train Loss: 4.005575933444217, Test Loss: 1.5680493399920061\n",
            "Epoch 155, Train Loss: 3.9605347420722343, Test Loss: 1.5619376120360002\n",
            "Epoch 156, Train Loss: 3.972564786806064, Test Loss: 1.5456332614659654\n",
            "Epoch 157, Train Loss: 3.9158611305234374, Test Loss: 1.541430266769341\n",
            "Epoch 158, Train Loss: 3.868680667053486, Test Loss: 1.5303490713734151\n",
            "Epoch 159, Train Loss: 3.8904865998453007, Test Loss: 1.526896725072885\n",
            "Epoch 160, Train Loss: 3.8194277512287376, Test Loss: 1.5161720567652026\n",
            "Epoch 161, Train Loss: 3.81399386964848, Test Loss: 1.5110758375328825\n",
            "Epoch 162, Train Loss: 3.789839966969847, Test Loss: 1.50337506209493\n",
            "Epoch 163, Train Loss: 3.7484743935285434, Test Loss: 1.4951710725379417\n",
            "Epoch 164, Train Loss: 3.730835275701888, Test Loss: 1.4867644328290543\n",
            "Epoch 165, Train Loss: 3.703109725270604, Test Loss: 1.479354667236738\n",
            "Epoch 166, Train Loss: 3.6777448759426767, Test Loss: 1.4726827162915788\n",
            "Epoch 167, Train Loss: 3.6607697537825494, Test Loss: 1.467061359101854\n",
            "Epoch 168, Train Loss: 3.622522525046014, Test Loss: 1.4612986844823794\n",
            "Epoch 169, Train Loss: 3.6021868751663773, Test Loss: 1.4558100022013536\n",
            "Epoch 170, Train Loss: 3.585612089299881, Test Loss: 1.45048758425676\n",
            "Epoch 171, Train Loss: 3.542593009717481, Test Loss: 1.444333016567523\n",
            "Epoch 172, Train Loss: 3.5211880997976888, Test Loss: 1.4345553387766299\n",
            "Epoch 173, Train Loss: 3.508304480246375, Test Loss: 1.4325084735060591\n",
            "Epoch 174, Train Loss: 3.479862013689921, Test Loss: 1.4248908556940612\n",
            "Epoch 175, Train Loss: 3.4359608738375105, Test Loss: 1.4230907089874874\n",
            "Epoch 176, Train Loss: 3.4346291648983116, Test Loss: 1.4136174030011268\n",
            "Epoch 177, Train Loss: 3.3981405452360955, Test Loss: 1.4151067764252958\n",
            "Epoch 178, Train Loss: 3.382832022942722, Test Loss: 1.4093610109270687\n",
            "Epoch 179, Train Loss: 3.3626941308255236, Test Loss: 1.4070698780476893\n",
            "Epoch 180, Train Loss: 3.3227881829248966, Test Loss: 1.3974494985912158\n",
            "Epoch 181, Train Loss: 3.314353102075695, Test Loss: 1.3947861174793195\n",
            "Epoch 182, Train Loss: 3.2764190056349936, Test Loss: 1.3888525850785054\n",
            "Epoch 183, Train Loss: 3.264798887936793, Test Loss: 1.3840727272545894\n",
            "Epoch 184, Train Loss: 3.2309267323747783, Test Loss: 1.38362706393537\n",
            "Epoch 185, Train Loss: 3.206825322282673, Test Loss: 1.3786809984070565\n",
            "Epoch 186, Train Loss: 3.194130262272982, Test Loss: 1.37433909379003\n",
            "Epoch 187, Train Loss: 3.16143961560627, Test Loss: 1.3679019360591078\n",
            "Epoch 188, Train Loss: 3.14295972255431, Test Loss: 1.3655276060714137\n",
            "Epoch 189, Train Loss: 3.1176281089364757, Test Loss: 1.3605296925815475\n",
            "Epoch 190, Train Loss: 3.0963070671755157, Test Loss: 1.3570682427767293\n",
            "Epoch 191, Train Loss: 3.075820245311112, Test Loss: 1.3562866575882564\n",
            "Epoch 192, Train Loss: 3.0549963754640506, Test Loss: 1.3498182415657336\n",
            "Epoch 193, Train Loss: 3.0271324180519437, Test Loss: 1.3489443655209163\n",
            "Epoch 194, Train Loss: 3.0046343031176677, Test Loss: 1.3447068969307043\n",
            "Epoch 195, Train Loss: 2.9891094171078025, Test Loss: 1.3420004603807882\n",
            "Epoch 196, Train Loss: 2.9735815415226794, Test Loss: 1.339632800701634\n",
            "Epoch 197, Train Loss: 2.933500492298214, Test Loss: 1.334259761340173\n",
            "Epoch 198, Train Loss: 2.9299873789761666, Test Loss: 1.3328112747968006\n",
            "Epoch 199, Train Loss: 2.888032063336534, Test Loss: 1.3304767101012227\n",
            "Epoch 200, Train Loss: 2.889599024296112, Test Loss: 1.329760515019107\n"
          ]
        },
        {
          "output_type": "display_data",
          "data": {
            "text/plain": [
              "<Figure size 1200x600 with 1 Axes>"
            ],
            "image/png": "[encoded data removed]"
          },
          "metadata": {}
        }
      ]
    },
    {
      "cell_type": "code",
      "source": [
        "def save_model(model, save_path=path_data+'model.pth'):\n",
        "  torch.save(model.state_dict(), save_path)\n",
        "  print(f'Model saved to {save_path}')\n",
        "save_model(model)"
      ],
      "metadata": {
        "colab": {
          "base_uri": "https://localhost:8080/"
        },
        "id": "xliF-i8wJk61",
        "outputId": "ff60ae04-dffc-4ecc-8c66-c41d1ac161a2"
      },
      "execution_count": null,
      "outputs": [
        {
          "output_type": "stream",
          "name": "stdout",
          "text": [
            "Model saved to /content/drive/My Drive/Colab Notebooks/Naver_webtoon/model.pth\n"
          ]
        }
      ]
    },
    {
      "cell_type": "code",
      "source": [
        "# 모델 로드 및 평가\n",
        "def load_model(model, load_path='/content/drive/My Drive/path_to_your_model/model.pth'):\n",
        "    model.load_state_dict(torch.load(load_path))\n",
        "    model.eval()\n",
        "    print(f'Model loaded from {load_path}')\n",
        "\n",
        "def evaluate_model(model, test_loader):\n",
        "    model.eval()\n",
        "    true_ratings = []\n",
        "    predicted_ratings = []\n",
        "    with torch.no_grad():\n",
        "        for users, movies, ratings in test_loader:\n",
        "            users, movies, ratings = users.cuda(), movies.cuda(), ratings.cuda()\n",
        "            outputs = model(users, movies)\n",
        "            true_ratings.extend(ratings.cpu().numpy())\n",
        "            predicted_ratings.extend(outputs.cpu().numpy())\n",
        "\n",
        "    rmse = np.sqrt(mean_squared_error(true_ratings, predicted_ratings))\n",
        "    mae = mean_absolute_error(true_ratings, predicted_ratings)\n",
        "    return rmse, mae\n",
        "\n",
        "# 모델 로드\n",
        "#load_model(model)\n",
        "\n",
        "# 테스트 셋 평가\n",
        "rmse, mae = evaluate_model(model, test_loader)\n",
        "print(f'RMSE: {rmse}, MAE: {mae}')\n",
        "\n",
        "# 예시 사용자에 대한 추천 결과 확인\n",
        "def recommend(model, user_id, top_k=10):\n",
        "    model.eval()\n",
        "    user_tensor = torch.tensor([user_id_map[user_id]], dtype=torch.long).cuda()\n",
        "    item_tensor = torch.arange(num_items, dtype=torch.long).cuda()\n",
        "\n",
        "    with torch.no_grad():\n",
        "        scores = model(user_tensor, item_tensor).cpu().numpy()\n",
        "\n",
        "    top_k_items = np.argsort(scores)[-top_k:][::-1]\n",
        "    return [list(movie_id_map.keys())[i] for i in top_k_items]\n",
        "\n",
        "# 예시 사용자에 대한 추천 결과 확인\n",
        "example_user_id = 1  # User ID 예시\n",
        "recommended_items = recommend(model, example_user_id, top_k=10)\n",
        "print(f\"Recommended items for user {example_user_id}: {recommended_items}\")"
      ],
      "metadata": {
        "id": "jKooRDoh9lZu",
        "colab": {
          "base_uri": "https://localhost:8080/"
        },
        "outputId": "e4ec5fd0-bcee-494f-a0f5-7d7e7afbfcc5"
      },
      "execution_count": null,
      "outputs": [
        {
          "output_type": "stream",
          "name": "stdout",
          "text": [
            "RMSE: 1.1531766653060913, MAE: 0.9471275210380554\n",
            "Recommended items for user 1: [1511, 1857, 3085, 3065, 2342, 887, 526, 2673, 3460, 823]\n"
          ]
        }
      ]
    },
    {
      "cell_type": "code",
      "source": [
        "# 추론 및 결과 확인\n",
        "def recommend(model, user_id, top_k=10):\n",
        "    model.eval()\n",
        "    user_tensor = torch.tensor([user_id_map[user_id]], dtype=torch.long).cuda()\n",
        "    item_tensor = torch.arange(num_items, dtype=torch.long).cuda()\n",
        "\n",
        "    with torch.no_grad():\n",
        "        scores = model(user_tensor, item_tensor).cpu().numpy()\n",
        "\n",
        "    top_k_items = np.argsort(scores)[-top_k:][::-1]\n",
        "    return [list(movie_id_map.keys())[i] for i in top_k_items]\n",
        "\n",
        "# 예시 사용자에 대한 추천 결과 확인\n",
        "example_user_id = 1  # User ID 예시\n",
        "recommended_items = recommend(model, example_user_id, top_k=10)\n",
        "print(f\"Recommended items for user {example_user_id}: {recommended_items}\")"
      ],
      "metadata": {
        "id": "8cge6X4MczWG",
        "colab": {
          "base_uri": "https://localhost:8080/"
        },
        "outputId": "35f6bb34-f2b8-4299-8519-83f69a3d95d7"
      },
      "execution_count": null,
      "outputs": [
        {
          "output_type": "stream",
          "name": "stdout",
          "text": [
            "Recommended items for user 1: [1511, 1857, 3085, 3065, 2342, 887, 526, 2673, 3460, 823]\n"
          ]
        }
      ]
    }
  ]
}