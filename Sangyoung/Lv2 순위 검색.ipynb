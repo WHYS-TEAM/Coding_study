{
 "cells": [
  {
   "cell_type": "code",
   "execution_count": null,
   "id": "55131c77",
   "metadata": {},
   "outputs": [],
   "source": [
    "# https://programmers.co.kr/learn/courses/30/lessons/72412"
   ]
  },
  {
   "cell_type": "code",
   "execution_count": 1,
   "id": "ebf4bbe5",
   "metadata": {},
   "outputs": [
    {
     "name": "stdout",
     "output_type": "stream",
     "text": [
      "['java backend junior pizza 150', 'python frontend senior chicken 210', 'python frontend senior chicken 150', 'cpp backend senior pizza 260', 'java backend junior chicken 80', 'python backend senior chicken 50'] \n",
      "\n",
      " ['java and backend and junior and pizza 100', 'python and frontend and senior and chicken 200', 'cpp and - and senior and pizza 250', '- and backend and senior and - 150', '- and - and - and chicken 100', '- and - and - and - 150']\n"
     ]
    }
   ],
   "source": [
    "info = ['java backend junior pizza 150', 'python frontend senior chicken 210', 'python frontend senior chicken 150', 'cpp backend senior pizza 260', 'java backend junior chicken 80', 'python backend senior chicken 50']\n",
    "query = ['java and backend and junior and pizza 100', 'python and frontend and senior and chicken 200', 'cpp and - and senior and pizza 250', '- and backend and senior and - 150', '- and - and - and chicken 100', '- and - and - and - 150']\n",
    "print(info, '\\n\\n', query)"
   ]
  },
  {
   "cell_type": "code",
   "execution_count": 30,
   "id": "08604016",
   "metadata": {},
   "outputs": [],
   "source": [
    "lan = ['cpp', 'java', 'python', '-']\n",
    "dept = ['frontend', 'backend', '-']\n",
    "career = ['junior', 'senior', '-']\n",
    "food = ['chicken', 'pizza', '-']\n",
    "\n",
    "info_map = {''.join(key_list):[] for key_list in \n",
    "            [[l,d,c,f] for l in lan for d in dept for c in career for f in food]}\n",
    "    \n",
    "binaries = list(product([True, False], repeat=4))"
   ]
  },
  {
   "cell_type": "code",
   "execution_count": 31,
   "id": "5d8ef8f0",
   "metadata": {},
   "outputs": [
    {
     "data": {
      "text/plain": [
       "{'cppfrontendjuniorchicken': [],\n",
       " 'cppfrontendjuniorpizza': [],\n",
       " 'cppfrontendjunior-': [],\n",
       " 'cppfrontendseniorchicken': [],\n",
       " 'cppfrontendseniorpizza': [],\n",
       " 'cppfrontendsenior-': [],\n",
       " 'cppfrontend-chicken': [],\n",
       " 'cppfrontend-pizza': [],\n",
       " 'cppfrontend--': [],\n",
       " 'cppbackendjuniorchicken': [],\n",
       " 'cppbackendjuniorpizza': [],\n",
       " 'cppbackendjunior-': [],\n",
       " 'cppbackendseniorchicken': [],\n",
       " 'cppbackendseniorpizza': [],\n",
       " 'cppbackendsenior-': [],\n",
       " 'cppbackend-chicken': [],\n",
       " 'cppbackend-pizza': [],\n",
       " 'cppbackend--': [],\n",
       " 'cpp-juniorchicken': [],\n",
       " 'cpp-juniorpizza': [],\n",
       " 'cpp-junior-': [],\n",
       " 'cpp-seniorchicken': [],\n",
       " 'cpp-seniorpizza': [],\n",
       " 'cpp-senior-': [],\n",
       " 'cpp--chicken': [],\n",
       " 'cpp--pizza': [],\n",
       " 'cpp---': [],\n",
       " 'javafrontendjuniorchicken': [],\n",
       " 'javafrontendjuniorpizza': [],\n",
       " 'javafrontendjunior-': [],\n",
       " 'javafrontendseniorchicken': [],\n",
       " 'javafrontendseniorpizza': [],\n",
       " 'javafrontendsenior-': [],\n",
       " 'javafrontend-chicken': [],\n",
       " 'javafrontend-pizza': [],\n",
       " 'javafrontend--': [],\n",
       " 'javabackendjuniorchicken': [],\n",
       " 'javabackendjuniorpizza': [],\n",
       " 'javabackendjunior-': [],\n",
       " 'javabackendseniorchicken': [],\n",
       " 'javabackendseniorpizza': [],\n",
       " 'javabackendsenior-': [],\n",
       " 'javabackend-chicken': [],\n",
       " 'javabackend-pizza': [],\n",
       " 'javabackend--': [],\n",
       " 'java-juniorchicken': [],\n",
       " 'java-juniorpizza': [],\n",
       " 'java-junior-': [],\n",
       " 'java-seniorchicken': [],\n",
       " 'java-seniorpizza': [],\n",
       " 'java-senior-': [],\n",
       " 'java--chicken': [],\n",
       " 'java--pizza': [],\n",
       " 'java---': [],\n",
       " 'pythonfrontendjuniorchicken': [],\n",
       " 'pythonfrontendjuniorpizza': [],\n",
       " 'pythonfrontendjunior-': [],\n",
       " 'pythonfrontendseniorchicken': [],\n",
       " 'pythonfrontendseniorpizza': [],\n",
       " 'pythonfrontendsenior-': [],\n",
       " 'pythonfrontend-chicken': [],\n",
       " 'pythonfrontend-pizza': [],\n",
       " 'pythonfrontend--': [],\n",
       " 'pythonbackendjuniorchicken': [],\n",
       " 'pythonbackendjuniorpizza': [],\n",
       " 'pythonbackendjunior-': [],\n",
       " 'pythonbackendseniorchicken': [],\n",
       " 'pythonbackendseniorpizza': [],\n",
       " 'pythonbackendsenior-': [],\n",
       " 'pythonbackend-chicken': [],\n",
       " 'pythonbackend-pizza': [],\n",
       " 'pythonbackend--': [],\n",
       " 'python-juniorchicken': [],\n",
       " 'python-juniorpizza': [],\n",
       " 'python-junior-': [],\n",
       " 'python-seniorchicken': [],\n",
       " 'python-seniorpizza': [],\n",
       " 'python-senior-': [],\n",
       " 'python--chicken': [],\n",
       " 'python--pizza': [],\n",
       " 'python---': [],\n",
       " '-frontendjuniorchicken': [],\n",
       " '-frontendjuniorpizza': [],\n",
       " '-frontendjunior-': [],\n",
       " '-frontendseniorchicken': [],\n",
       " '-frontendseniorpizza': [],\n",
       " '-frontendsenior-': [],\n",
       " '-frontend-chicken': [],\n",
       " '-frontend-pizza': [],\n",
       " '-frontend--': [],\n",
       " '-backendjuniorchicken': [],\n",
       " '-backendjuniorpizza': [],\n",
       " '-backendjunior-': [],\n",
       " '-backendseniorchicken': [],\n",
       " '-backendseniorpizza': [],\n",
       " '-backendsenior-': [],\n",
       " '-backend-chicken': [],\n",
       " '-backend-pizza': [],\n",
       " '-backend--': [],\n",
       " '--juniorchicken': [],\n",
       " '--juniorpizza': [],\n",
       " '--junior-': [],\n",
       " '--seniorchicken': [],\n",
       " '--seniorpizza': [],\n",
       " '--senior-': [],\n",
       " '---chicken': [],\n",
       " '---pizza': [],\n",
       " '----': []}"
      ]
     },
     "execution_count": 31,
     "metadata": {},
     "output_type": "execute_result"
    }
   ],
   "source": [
    "info_map"
   ]
  },
  {
   "cell_type": "code",
   "execution_count": 32,
   "id": "14dd3857",
   "metadata": {},
   "outputs": [
    {
     "data": {
      "text/plain": [
       "[(True, True, True, True),\n",
       " (True, True, True, False),\n",
       " (True, True, False, True),\n",
       " (True, True, False, False),\n",
       " (True, False, True, True),\n",
       " (True, False, True, False),\n",
       " (True, False, False, True),\n",
       " (True, False, False, False),\n",
       " (False, True, True, True),\n",
       " (False, True, True, False),\n",
       " (False, True, False, True),\n",
       " (False, True, False, False),\n",
       " (False, False, True, True),\n",
       " (False, False, True, False),\n",
       " (False, False, False, True),\n",
       " (False, False, False, False)]"
      ]
     },
     "execution_count": 32,
     "metadata": {},
     "output_type": "execute_result"
    }
   ],
   "source": [
    "bianries"
   ]
  },
  {
   "cell_type": "code",
   "execution_count": 33,
   "id": "b1049695",
   "metadata": {},
   "outputs": [
    {
     "name": "stdout",
     "output_type": "stream",
     "text": [
      "info: java backend junior pizza 150\n",
      "split info: ['java', 'backend', 'junior', 'pizza', '150']\n",
      "score(int): 150\n",
      "key: javabackendjuniorpizza\n",
      "key: javabackendjunior-\n",
      "key: javabackend-pizza\n",
      "key: javabackend--\n",
      "key: java-juniorpizza\n",
      "key: java-junior-\n",
      "key: java--pizza\n",
      "key: java---\n",
      "key: -backendjuniorpizza\n",
      "key: -backendjunior-\n",
      "key: -backend-pizza\n",
      "key: -backend--\n",
      "key: --juniorpizza\n",
      "key: --junior-\n",
      "key: ---pizza\n",
      "key: ----\n"
     ]
    },
    {
     "data": {
      "text/plain": [
       "[('javabackendjuniorpizza', [150]),\n",
       " ('javabackendjunior-', [150]),\n",
       " ('javabackend-pizza', [150]),\n",
       " ('javabackend--', [150]),\n",
       " ('java-juniorpizza', [150]),\n",
       " ('java-junior-', [150]),\n",
       " ('java--pizza', [150]),\n",
       " ('java---', [150]),\n",
       " ('-backendjuniorpizza', [150]),\n",
       " ('-backendjunior-', [150]),\n",
       " ('-backend-pizza', [150]),\n",
       " ('-backend--', [150]),\n",
       " ('--juniorpizza', [150]),\n",
       " ('--junior-', [150]),\n",
       " ('---pizza', [150]),\n",
       " ('----', [150])]"
      ]
     },
     "execution_count": 33,
     "metadata": {},
     "output_type": "execute_result"
    }
   ],
   "source": [
    "info_0 = info[0]\n",
    "print('info:', info_0)\n",
    "\n",
    "inf = info_0.split()\n",
    "print('split info:', inf)\n",
    "\n",
    "score = int(inf[-1])\n",
    "print('score(int):', score)\n",
    "\n",
    "for key in [''.join(\n",
    "                [val if b else '-' for val, b in zip(inf[:-1], binary)]\n",
    "                    )for binary in bianries]:\n",
    "    print('key:', key)\n",
    "    bisect.insort(info_map[key], score)\n",
    "list(filter(lambda x: x[1], info_map.items()))"
   ]
  },
  {
   "cell_type": "code",
   "execution_count": 46,
   "id": "7b03693c",
   "metadata": {},
   "outputs": [
    {
     "name": "stdout",
     "output_type": "stream",
     "text": [
      "binary_0: (True, True, True, True)\n",
      "[('java', True), ('backend', True), ('junior', True), ('pizza', True)]\n",
      "javabackendjuniorpizza\n",
      "\n",
      "binary_1: (True, True, True, False)\n",
      "[('java', True), ('backend', True), ('junior', True), ('pizza', False)]\n",
      "javabackendjunior-\n",
      "\n",
      "binary_2: (True, True, False, True)\n",
      "[('java', True), ('backend', True), ('junior', False), ('pizza', True)]\n",
      "javabackend-pizza\n",
      "\n"
     ]
    }
   ],
   "source": [
    "binary_0 = binaries[0]\n",
    "print('binary_0:', binary_0)\n",
    "print(list(zip(inf[:-1], binary_0)))\n",
    "print(''.join([val if b else '-' for val, b in zip(inf[:-1], binary_0)]), end='\\n\\n')\n",
    "\n",
    "binary_1 = binaries[1]\n",
    "print('binary_1:', binary_1)\n",
    "print(list(zip(inf[:-1], binary_1)))\n",
    "print(''.join([val if b else '-' for val, b in zip(inf[:-1], binary_1)]), end='\\n\\n')\n",
    "\n",
    "binary_2 = binaries[2]\n",
    "print('binary_2:', binary_2)\n",
    "print(list(zip(inf[:-1], binary_2)))\n",
    "print(''.join([val if b else '-' for val, b in zip(inf[:-1], binary_2)]), end='\\n\\n')"
   ]
  },
  {
   "cell_type": "code",
   "execution_count": 48,
   "id": "d4f9ea22",
   "metadata": {},
   "outputs": [
    {
     "name": "stdout",
     "output_type": "stream",
     "text": [
      "info: ['java', 'backend', 'junior', 'pizza', '150']\n",
      "info: ['python', 'frontend', 'senior', 'chicken', '210']\n",
      "info: ['python', 'frontend', 'senior', 'chicken', '150']\n",
      "info: ['cpp', 'backend', 'senior', 'pizza', '260']\n",
      "info: ['java', 'backend', 'junior', 'chicken', '80']\n",
      "info: ['python', 'backend', 'senior', 'chicken', '50']\n"
     ]
    },
    {
     "data": {
      "text/plain": [
       "[('cppbackendseniorpizza', [260]),\n",
       " ('cppbackendsenior-', [260]),\n",
       " ('cppbackend-pizza', [260]),\n",
       " ('cppbackend--', [260]),\n",
       " ('cpp-seniorpizza', [260]),\n",
       " ('cpp-senior-', [260]),\n",
       " ('cpp--pizza', [260]),\n",
       " ('cpp---', [260]),\n",
       " ('javabackendjuniorchicken', [80]),\n",
       " ('javabackendjuniorpizza', [150]),\n",
       " ('javabackendjunior-', [80, 150]),\n",
       " ('javabackend-chicken', [80]),\n",
       " ('javabackend-pizza', [150]),\n",
       " ('javabackend--', [80, 150]),\n",
       " ('java-juniorchicken', [80]),\n",
       " ('java-juniorpizza', [150]),\n",
       " ('java-junior-', [80, 150]),\n",
       " ('java--chicken', [80]),\n",
       " ('java--pizza', [150]),\n",
       " ('java---', [80, 150]),\n",
       " ('pythonfrontendseniorchicken', [150, 210]),\n",
       " ('pythonfrontendsenior-', [150, 210]),\n",
       " ('pythonfrontend-chicken', [150, 210]),\n",
       " ('pythonfrontend--', [150, 210]),\n",
       " ('pythonbackendseniorchicken', [50]),\n",
       " ('pythonbackendsenior-', [50]),\n",
       " ('pythonbackend-chicken', [50]),\n",
       " ('pythonbackend--', [50]),\n",
       " ('python-seniorchicken', [50, 150, 210]),\n",
       " ('python-senior-', [50, 150, 210]),\n",
       " ('python--chicken', [50, 150, 210]),\n",
       " ('python---', [50, 150, 210]),\n",
       " ('-frontendseniorchicken', [150, 210]),\n",
       " ('-frontendsenior-', [150, 210]),\n",
       " ('-frontend-chicken', [150, 210]),\n",
       " ('-frontend--', [150, 210]),\n",
       " ('-backendjuniorchicken', [80]),\n",
       " ('-backendjuniorpizza', [150]),\n",
       " ('-backendjunior-', [80, 150]),\n",
       " ('-backendseniorchicken', [50]),\n",
       " ('-backendseniorpizza', [260]),\n",
       " ('-backendsenior-', [50, 260]),\n",
       " ('-backend-chicken', [50, 80]),\n",
       " ('-backend-pizza', [150, 260]),\n",
       " ('-backend--', [50, 80, 150, 260]),\n",
       " ('--juniorchicken', [80]),\n",
       " ('--juniorpizza', [150]),\n",
       " ('--junior-', [80, 150]),\n",
       " ('--seniorchicken', [50, 150, 210]),\n",
       " ('--seniorpizza', [260]),\n",
       " ('--senior-', [50, 150, 210, 260]),\n",
       " ('---chicken', [50, 80, 150, 210]),\n",
       " ('---pizza', [150, 260]),\n",
       " ('----', [50, 80, 150, 150, 210, 260])]"
      ]
     },
     "execution_count": 48,
     "metadata": {},
     "output_type": "execute_result"
    }
   ],
   "source": [
    "info_map = {''.join(key_list):[] for key_list in \n",
    "            [[l,d,c,f] for l in lan for d in dept for c in career for f in food]}\n",
    "\n",
    "for inf in info:\n",
    "    inf = inf.split()\n",
    "    print('info:', inf)\n",
    "    score = int(inf[-1])\n",
    "\n",
    "    for key in [''.join(\n",
    "                    [val if b else '-' for val, b in zip(inf[:-1], binary)]\n",
    "                        )for binary in bianries]:\n",
    "        bisect.insort(info_map[key], score)\n",
    "        \n",
    "list(filter(lambda x: x[1], info_map.items()))"
   ]
  },
  {
   "cell_type": "code",
   "execution_count": 61,
   "id": "a0cee1d4",
   "metadata": {},
   "outputs": [
    {
     "name": "stdout",
     "output_type": "stream",
     "text": [
      "query: java and backend and junior and pizza 100\n",
      "lan:java, dept:backend, career:junior, food:pizza, scr:100\n",
      "qry2key: javabackendjuniorpizza\n",
      "info_map[javabackendjuniorpizza]: [150]\n",
      "total: 1\n",
      "bisect.bisect_left([150], 100) --> 0\n",
      "num satisfy score == (total - num below score) --> 1\n",
      "answer: [1]\n",
      "\n",
      "query: python and frontend and senior and chicken 200\n",
      "lan:python, dept:frontend, career:senior, food:chicken, scr:200\n",
      "qry2key: pythonfrontendseniorchicken\n",
      "info_map[pythonfrontendseniorchicken]: [150, 210]\n",
      "total: 2\n",
      "bisect.bisect_left([150, 210], 200) --> 1\n",
      "num satisfy score == (total - num below score) --> 1\n",
      "answer: [1, 1]\n",
      "\n",
      "query: cpp and - and senior and pizza 250\n",
      "lan:cpp, dept:-, career:senior, food:pizza, scr:250\n",
      "qry2key: cpp-seniorpizza\n",
      "info_map[cpp-seniorpizza]: [260]\n",
      "total: 1\n",
      "bisect.bisect_left([260], 250) --> 0\n",
      "num satisfy score == (total - num below score) --> 1\n",
      "answer: [1, 1, 1]\n",
      "\n",
      "query: - and backend and senior and - 150\n",
      "lan:-, dept:backend, career:senior, food:-, scr:150\n",
      "qry2key: -backendsenior-\n",
      "info_map[-backendsenior-]: [50, 260]\n",
      "total: 2\n",
      "bisect.bisect_left([50, 260], 150) --> 1\n",
      "num satisfy score == (total - num below score) --> 1\n",
      "answer: [1, 1, 1, 1]\n",
      "\n",
      "query: - and - and - and chicken 100\n",
      "lan:-, dept:-, career:-, food:chicken, scr:100\n",
      "qry2key: ---chicken\n",
      "info_map[---chicken]: [50, 80, 150, 210]\n",
      "total: 4\n",
      "bisect.bisect_left([50, 80, 150, 210], 100) --> 2\n",
      "num satisfy score == (total - num below score) --> 2\n",
      "answer: [1, 1, 1, 1, 2]\n",
      "\n",
      "query: - and - and - and - 150\n",
      "lan:-, dept:-, career:-, food:-, scr:150\n",
      "qry2key: ----\n",
      "info_map[----]: [50, 80, 150, 150, 210, 260]\n",
      "total: 6\n",
      "bisect.bisect_left([50, 80, 150, 150, 210, 260], 150) --> 2\n",
      "num satisfy score == (total - num below score) --> 4\n",
      "answer: [1, 1, 1, 1, 2, 4]\n",
      "\n"
     ]
    }
   ],
   "source": [
    "answer = []\n",
    "for qry in query:\n",
    "    print('query:', qry)\n",
    "    l,and_,d,and_,c,and_,f,s = qry.split(' ')\n",
    "    print(f'lan:{l}, dept:{d}, career:{c}, food:{f}, scr:{s}')\n",
    "    qry, score = ''.join([l,d,c,f]), int(s)\n",
    "    print('qry2key:', qry)\n",
    "    print(f'info_map[{qry}]:', info_map[qry])\n",
    "    print('total:', len(info_map[qry]))\n",
    "    print(f'bisect.bisect_left({info_map[qry]}, {score}) --> {bisect.bisect_left(info_map[qry], score)}')\n",
    "    print(f'num satisfy score == (total - num below score) --> {len(info_map[qry]) - bisect.bisect_left(info_map[qry], score)}')\n",
    "    answer.append(len(info_map[qry]) - bisect.bisect_left(info_map[qry], score))\n",
    "    print('answer:', answer)\n",
    "    print()"
   ]
  },
  {
   "cell_type": "code",
   "execution_count": 2,
   "id": "50dc5f9d",
   "metadata": {},
   "outputs": [],
   "source": [
    "import bisect\n",
    "from itertools import product\n",
    "\n",
    "def solution(info, query):\n",
    "\n",
    "    lan = ['cpp', 'java', 'python', '-']\n",
    "    dept = ['frontend', 'backend', '-']\n",
    "    career = ['junior', 'senior', '-']\n",
    "    food = ['chicken', 'pizza', '-']\n",
    "\n",
    "    info_map = {''.join(key_list):[] for key_list in \n",
    "                [[l,d,c,f] for l in lan for d in dept for c in career for f in food]}\n",
    "    \n",
    "    bianries = list(product([True, False], repeat=4))\n",
    "    \n",
    "    for inf in info:\n",
    "        inf = inf.split()\n",
    "        score = int(inf[-1])\n",
    "\n",
    "        for key in [''.join(\n",
    "                        [val if b else '-' for val, b in zip(inf[:-1], binary)]\n",
    "                            )for binary in bianries]:\n",
    "            bisect.insort(info_map[key], score)\n",
    "            \n",
    "    answer = []\n",
    "    for qry in query:\n",
    "        l,and_,d,and_,c,and_,f,s = qry.split(' ')\n",
    "        qry, score = ''.join([l,d,c,f]), int(s)\n",
    "        answer.append(len(info_map[qry]) - bisect.bisect_left(info_map[qry], score))\n",
    "\n",
    "    return answer"
   ]
  },
  {
   "cell_type": "code",
   "execution_count": 4,
   "id": "2be05c5c",
   "metadata": {},
   "outputs": [
    {
     "data": {
      "text/plain": [
       "[1, 1, 1, 1, 2, 4]"
      ]
     },
     "execution_count": 4,
     "metadata": {},
     "output_type": "execute_result"
    }
   ],
   "source": [
    "solution(info, query)"
   ]
  },
  {
   "cell_type": "code",
   "execution_count": null,
   "id": "ac78ded8",
   "metadata": {},
   "outputs": [],
   "source": [
    "import bisect\n",
    "from itertools import product\n",
    "\n",
    "def solution(info, query):\n",
    "\n",
    "    info_map = {''.join(key_list):[] for key_list in [[l,d,c,f] for l in ['cpp', 'java', 'python', '-'] for d in ['frontend', 'backend', '-'] for c in ['junior', 'senior', '-'] for f in ['chicken', 'pizza', '-']]}\n",
    "    binaries = list(product([True, False], repeat=4))\n",
    "    \n",
    "    for inf in info:\n",
    "        l,d,c,f,s = inf.split()\n",
    "        for key in [''.join([val if b else '-' for val, b in zip([l,d,c,f], binary)])for binary in binaries]:\n",
    "            bisect.insort(info_map[key], int(s))\n",
    "            \n",
    "    answer = []\n",
    "    for qry in query:\n",
    "        l,and_,d,and_,c,and_,f,s = qry.split(' ')\n",
    "        qry, score = ''.join([l,d,c,f]), int(s)\n",
    "        answer.append(len(info_map[qry]) - bisect.bisect_left(info_map[qry], score))\n",
    "\n",
    "    return answer"
   ]
  },
  {
   "cell_type": "code",
   "execution_count": null,
   "id": "4eb05313",
   "metadata": {},
   "outputs": [],
   "source": [
    "import bisect\n",
    "from itertools import product\n",
    "\n",
    "def solution(info, query):\n",
    "\n",
    "    info_map = {''.join(key_list):[] for key_list in [[l,d,c,f] for l in ['cpp', 'java', 'python', '-'] for d in ['frontend', 'backend', '-'] for c in ['junior', 'senior', '-'] for f in ['chicken', 'pizza', '-']]}\n",
    "    binaries = list(product([True, False], repeat=4))\n",
    "    \n",
    "    for inf in info:\n",
    "        l,d,c,f,s = inf.split()\n",
    "        for key in [''.join([val if b else '-' for val, b in zip([l,d,c,f], binary)])for binary in binaries]:\n",
    "            bisect.insort(info_map[key], int(s))\n",
    "            \n",
    "    answer = []\n",
    "    for qry in query:\n",
    "        l,and_,d,and_,c,and_,f,s = qry.split(' ')\n",
    "        qry, score = ''.join([l,d,c,f]), int(s)\n",
    "        answer.append(len(info_map[qry]) - bisect.bisect_left(info_map[qry], score))\n",
    "\n",
    "    return answer"
   ]
  },
  {
   "cell_type": "code",
   "execution_count": null,
   "id": "e47ab765",
   "metadata": {},
   "outputs": [],
   "source": [
    "import bisect\n",
    "from itertools import product\n",
    "\n",
    "def solution(info, query):\n",
    "\n",
    "    info_map = {''.join(key_list):[] for key_list in [[l,d,c,f] for l in ['cpp', 'java', 'python', '-'] for d in ['frontend', 'backend', '-'] for c in ['junior', 'senior', '-'] for f in ['chicken', 'pizza', '-']]}\n",
    "    binaries = list(product([True, False], repeat=4))\n",
    "    \n",
    "    for inf in info:\n",
    "        l,d,c,f,s = inf.split()\n",
    "        for key in [''.join([val if b else '-' for val, b in zip([l,d,c,f], binary)])for binary in binaries]:\n",
    "            bisect.insort(info_map[key], int(s))\n",
    "            \n",
    "    answer = []\n",
    "    for qry in query:\n",
    "        l,and_,d,and_,c,and_,f,s = qry.split(' ')\n",
    "        qry, score = ''.join([l,d,c,f]), int(s)\n",
    "        answer.append(len(info_map[qry]) - bisect.bisect_left(info_map[qry], score))\n",
    "\n",
    "    return answer"
   ]
  },
  {
   "cell_type": "code",
   "execution_count": 247,
   "id": "c6b6d99d",
   "metadata": {},
   "outputs": [
    {
     "name": "stdout",
     "output_type": "stream",
     "text": [
      "javabackendjuniorpizza 1\n",
      "pythonfrontendseniorchicken 1\n",
      "cpp-seniorpizza 1\n",
      "-backendsenior- 1\n",
      "---chicken 2\n",
      "---- 4\n"
     ]
    }
   ],
   "source": [
    "import bisect\n",
    "from itertools import product\n",
    "\n",
    "\n",
    "# make default info_map with all possible 108 keys\n",
    "lan = ['cpp', 'java', 'python', '-']\n",
    "dept = ['frontend', 'backend', '-']\n",
    "career = ['junior', 'senior', '-']\n",
    "food = ['chicken', 'pizza', '-']\n",
    "\n",
    "info_map = {''.join(key_list):[] for key_list in \n",
    "            [[l,d,c,f] for l in lan for d in dept for c in career for f in food]}\n",
    "\n",
    "# iter info & save info in the info hash table\n",
    "for inf in info:\n",
    "    inf = inf.split()\n",
    "    score = int(inf[-1])\n",
    "    \n",
    "    for key in [''.join(\n",
    "                    [val if b else '-' for val, b in zip(inf[:-1], binary)]\n",
    "                        )for binary in product([True, False], repeat=4)]:\n",
    "        bisect.insort(info_map[key], score)\n",
    "        \n",
    "# iter queries & get answers\n",
    "answer = []\n",
    "for qry in query:\n",
    "    qry = qry.split(' and ')\n",
    "    soul_food, score = qry[-1].split()\n",
    "    qry = ''.join(qry[:-1] + [soul_food])\n",
    "    val = len(info_map[qry][bisect.bisect_left(info_map[qry], int(score)):])\n",
    "    print(qry, val)\n",
    "    answer.append(val)"
   ]
  },
  {
   "cell_type": "code",
   "execution_count": null,
   "id": "e0c95c71",
   "metadata": {},
   "outputs": [],
   "source": [
    "# 첫 풀이, 해시 사용 안 함, 데이터사이언스적으로 접근한듯\n",
    "\n",
    "def get_idx(query):\n",
    "    \n",
    "    query = query.split(' and ')\n",
    "    query = query[:-1] + query[-1].split()\n",
    "    \n",
    "    result = set(range(len(info)))\n",
    "\n",
    "    for key, criteria in zip(data, query):\n",
    "        \n",
    "        if criteria == '-':\n",
    "            continue\n",
    "        if key == 'SC':\n",
    "            result = result.intersection(\n",
    "                        set([applicant[0] for applicant in data[key] if int(applicant[1])>=int(criteria)]))\n",
    "            break\n",
    "\n",
    "        result = result.intersection(\n",
    "                    set([applicant[0] for applicant in data[key] if applicant[1]==criteria]))\n",
    "\n",
    "    return result\n",
    "\n",
    "def solution(info, query):\n",
    "    \n",
    "    global data\n",
    "    data = {key:[] for key in ['LAN', 'DPT', 'CRR', 'SF', 'SC']}\n",
    "\n",
    "    for idx, applicant in enumerate(info):\n",
    "        for key, val in zip(data, applicant.split(' ')):\n",
    "            data[key].append((idx, val))\n",
    "            \n",
    "    return [len(get_idx(q)) for q in query]\n",
    "\n",
    "solution(info, query)"
   ]
  },
  {
   "cell_type": "code",
   "execution_count": 116,
   "id": "d796bb0d",
   "metadata": {},
   "outputs": [],
   "source": [
    "from itertools import combinations\n",
    "\n",
    "def find_same_or_larger_score_idx(score_list, score):\n",
    "    idx = 0\n",
    "    for s in score_list:\n",
    "        if s >= score: return idx\n",
    "        else: idx += 1\n",
    "    \n",
    "    return len(score_list)\n",
    "\n",
    "def get_idx(q):\n",
    "    q = q.split(' and ')\n",
    "    soul_food, score = q[-1].split()\n",
    "    q = ''.join(q[:-1] + [soul_food])\n",
    "    scores = sorted(data[q])\n",
    "    \n",
    "    return len(scores) - find_same_or_larger_score_idx(scores, int(score))\n",
    "\n",
    "def solution(info, query):\n",
    "    global data\n",
    "    data = dict()\n",
    "\n",
    "    no_criteria_idx_combs = []\n",
    "    for i in range(5):\n",
    "        no_criteria_idx_combs.extend(list(combinations(range(4), i)))\n",
    "\n",
    "    lan = ['cpp', 'java', 'python']\n",
    "    dept = ['frontend', 'backend']\n",
    "    career = ['junior', 'senior']\n",
    "    food = ['chicken', 'pizza']\n",
    "\n",
    "    for idx_comb in no_criteria_idx_combs:\n",
    "        for key_default in [[l,d,c,f] for l in lan for d in dept for c in career for f in food]:\n",
    "            for idx in idx_comb:\n",
    "                key_default[idx] = '-'\n",
    "            key = ''.join(key_default)\n",
    "            if key not in data: data[key] = []\n",
    "\n",
    "    for applicant in info:\n",
    "        applicant = applicant.split()\n",
    "        test_score = int(applicant[-1])\n",
    "\n",
    "        for idx_comb in no_criteria_idx_combs:\n",
    "            make_key = applicant.copy()\n",
    "            for idx in idx_comb:\n",
    "                make_key[idx] = '-'\n",
    "            key = ''.join(make_key[:-1])\n",
    "\n",
    "            data[key].append(test_score)\n",
    "\n",
    "    return [get_idx(q) for q in query]"
   ]
  },
  {
   "cell_type": "code",
   "execution_count": 117,
   "id": "92f9a1a4",
   "metadata": {},
   "outputs": [
    {
     "data": {
      "text/plain": [
       "[1, 1, 1, 1, 2, 4]"
      ]
     },
     "execution_count": 117,
     "metadata": {},
     "output_type": "execute_result"
    }
   ],
   "source": [
    "solution(info, query)"
   ]
  },
  {
   "cell_type": "code",
   "execution_count": 20,
   "id": "d7bd4513",
   "metadata": {},
   "outputs": [],
   "source": [
    "data = dict()\n",
    "\n",
    "no_criteria_idx_combs = []\n",
    "for i in range(5):\n",
    "    no_criteria_idx_combs.extend(list(combinations(range(4), i)))\n",
    "\n",
    "lan = ['cpp', 'java', 'python']\n",
    "dept = ['frontend', 'backend']\n",
    "career = ['junior', 'senior']\n",
    "food = ['chicken', 'pizza']\n",
    "\n",
    "data['----'] = []\n",
    "for idx_comb in no_criteria_idx_combs:\n",
    "    for key_default in [[l,d,c,f] for l in lan for d in dept for c in career for f in food]:\n",
    "        for idx in idx_comb:\n",
    "            key_default[idx] = '-'\n",
    "        data[''.join(key_default)] = []"
   ]
  },
  {
   "cell_type": "code",
   "execution_count": 28,
   "id": "d5d7977c",
   "metadata": {},
   "outputs": [
    {
     "data": {
      "text/plain": [
       "16"
      ]
     },
     "execution_count": 28,
     "metadata": {},
     "output_type": "execute_result"
    }
   ],
   "source": [
    "len(no_criteria_idx_combs)"
   ]
  },
  {
   "cell_type": "code",
   "execution_count": 45,
   "id": "216d5c71",
   "metadata": {},
   "outputs": [
    {
     "data": {
      "text/plain": [
       "360"
      ]
     },
     "execution_count": 45,
     "metadata": {},
     "output_type": "execute_result"
    }
   ],
   "source": [
    "3*2*2*2*(1+4+6+4)"
   ]
  },
  {
   "cell_type": "code",
   "execution_count": 58,
   "id": "87c49271",
   "metadata": {},
   "outputs": [],
   "source": [
    "key_tmp = []\n",
    "for idx_comb in no_criteria_idx_combs:\n",
    "    for key_default in [[l,d,c,f] for l in lan for d in dept for c in career for f in food]:\n",
    "#    print('comb', idx_comb)\n",
    "        for idx in idx_comb:\n",
    "    #        print('idx', idx, end='||')\n",
    "            key_default[idx] = '-'\n",
    "    #    print(key_default)\n",
    "        key_tmp.append(''.join(key_default))\n",
    "    #    print()"
   ]
  },
  {
   "cell_type": "code",
   "execution_count": 63,
   "id": "63f2e52e",
   "metadata": {},
   "outputs": [
    {
     "data": {
      "text/plain": [
       "108"
      ]
     },
     "execution_count": 63,
     "metadata": {},
     "output_type": "execute_result"
    }
   ],
   "source": [
    "len(set(key_tmp))"
   ]
  },
  {
   "cell_type": "code",
   "execution_count": 56,
   "id": "e8770c99",
   "metadata": {},
   "outputs": [
    {
     "data": {
      "text/plain": [
       "[['cpp', 'frontend', 'junior', 'chicken'],\n",
       " ['cpp', 'frontend', 'junior', 'pizza'],\n",
       " ['cpp', 'frontend', 'senior', 'chicken'],\n",
       " ['cpp', 'frontend', 'senior', 'pizza'],\n",
       " ['cpp', 'backend', 'junior', 'chicken'],\n",
       " ['cpp', 'backend', 'junior', 'pizza'],\n",
       " ['cpp', 'backend', 'senior', 'chicken'],\n",
       " ['cpp', 'backend', 'senior', 'pizza'],\n",
       " ['java', 'frontend', 'junior', 'chicken'],\n",
       " ['java', 'frontend', 'junior', 'pizza'],\n",
       " ['java', 'frontend', 'senior', 'chicken'],\n",
       " ['java', 'frontend', 'senior', 'pizza'],\n",
       " ['java', 'backend', 'junior', 'chicken'],\n",
       " ['java', 'backend', 'junior', 'pizza'],\n",
       " ['java', 'backend', 'senior', 'chicken'],\n",
       " ['java', 'backend', 'senior', 'pizza'],\n",
       " ['python', 'frontend', 'junior', 'chicken'],\n",
       " ['python', 'frontend', 'junior', 'pizza'],\n",
       " ['python', 'frontend', 'senior', 'chicken'],\n",
       " ['python', 'frontend', 'senior', 'pizza'],\n",
       " ['python', 'backend', 'junior', 'chicken'],\n",
       " ['python', 'backend', 'junior', 'pizza'],\n",
       " ['python', 'backend', 'senior', 'chicken'],\n",
       " ['python', 'backend', 'senior', 'pizza'],\n",
       " ['-', 'frontend', 'junior', 'chicken'],\n",
       " ['-', 'frontend', 'junior', 'pizza'],\n",
       " ['-', 'frontend', 'senior', 'chicken'],\n",
       " ['-', 'frontend', 'senior', 'pizza'],\n",
       " ['-', 'backend', 'junior', 'chicken'],\n",
       " ['-', 'backend', 'junior', 'pizza'],\n",
       " ['-', 'backend', 'senior', 'chicken'],\n",
       " ['-', 'backend', 'senior', 'pizza'],\n",
       " ['-', 'frontend', 'junior', 'chicken'],\n",
       " ['-', 'frontend', 'junior', 'pizza'],\n",
       " ['-', 'frontend', 'senior', 'chicken'],\n",
       " ['-', 'frontend', 'senior', 'pizza'],\n",
       " ['-', 'backend', 'junior', 'chicken'],\n",
       " ['-', 'backend', 'junior', 'pizza'],\n",
       " ['-', 'backend', 'senior', 'chicken'],\n",
       " ['-', 'backend', 'senior', 'pizza'],\n",
       " ['-', 'frontend', 'junior', 'chicken'],\n",
       " ['-', 'frontend', 'junior', 'pizza'],\n",
       " ['-', 'frontend', 'senior', 'chicken'],\n",
       " ['-', 'frontend', 'senior', 'pizza'],\n",
       " ['-', 'backend', 'junior', 'chicken'],\n",
       " ['-', 'backend', 'junior', 'pizza'],\n",
       " ['-', 'backend', 'senior', 'chicken'],\n",
       " ['-', 'backend', 'senior', 'pizza'],\n",
       " ['cpp', '-', 'junior', 'chicken'],\n",
       " ['cpp', '-', 'junior', 'pizza'],\n",
       " ['cpp', '-', 'senior', 'chicken'],\n",
       " ['cpp', '-', 'senior', 'pizza'],\n",
       " ['cpp', '-', 'junior', 'chicken'],\n",
       " ['cpp', '-', 'junior', 'pizza'],\n",
       " ['cpp', '-', 'senior', 'chicken'],\n",
       " ['cpp', '-', 'senior', 'pizza'],\n",
       " ['java', '-', 'junior', 'chicken'],\n",
       " ['java', '-', 'junior', 'pizza'],\n",
       " ['java', '-', 'senior', 'chicken'],\n",
       " ['java', '-', 'senior', 'pizza'],\n",
       " ['java', '-', 'junior', 'chicken'],\n",
       " ['java', '-', 'junior', 'pizza'],\n",
       " ['java', '-', 'senior', 'chicken'],\n",
       " ['java', '-', 'senior', 'pizza'],\n",
       " ['python', '-', 'junior', 'chicken'],\n",
       " ['python', '-', 'junior', 'pizza'],\n",
       " ['python', '-', 'senior', 'chicken'],\n",
       " ['python', '-', 'senior', 'pizza'],\n",
       " ['python', '-', 'junior', 'chicken'],\n",
       " ['python', '-', 'junior', 'pizza'],\n",
       " ['python', '-', 'senior', 'chicken'],\n",
       " ['python', '-', 'senior', 'pizza'],\n",
       " ['cpp', 'frontend', '-', 'chicken'],\n",
       " ['cpp', 'frontend', '-', 'pizza'],\n",
       " ['cpp', 'frontend', '-', 'chicken'],\n",
       " ['cpp', 'frontend', '-', 'pizza'],\n",
       " ['cpp', 'backend', '-', 'chicken'],\n",
       " ['cpp', 'backend', '-', 'pizza'],\n",
       " ['cpp', 'backend', '-', 'chicken'],\n",
       " ['cpp', 'backend', '-', 'pizza'],\n",
       " ['java', 'frontend', '-', 'chicken'],\n",
       " ['java', 'frontend', '-', 'pizza'],\n",
       " ['java', 'frontend', '-', 'chicken'],\n",
       " ['java', 'frontend', '-', 'pizza'],\n",
       " ['java', 'backend', '-', 'chicken'],\n",
       " ['java', 'backend', '-', 'pizza'],\n",
       " ['java', 'backend', '-', 'chicken'],\n",
       " ['java', 'backend', '-', 'pizza'],\n",
       " ['python', 'frontend', '-', 'chicken'],\n",
       " ['python', 'frontend', '-', 'pizza'],\n",
       " ['python', 'frontend', '-', 'chicken'],\n",
       " ['python', 'frontend', '-', 'pizza'],\n",
       " ['python', 'backend', '-', 'chicken'],\n",
       " ['python', 'backend', '-', 'pizza'],\n",
       " ['python', 'backend', '-', 'chicken'],\n",
       " ['python', 'backend', '-', 'pizza'],\n",
       " ['cpp', 'frontend', 'junior', '-'],\n",
       " ['cpp', 'frontend', 'junior', '-'],\n",
       " ['cpp', 'frontend', 'senior', '-'],\n",
       " ['cpp', 'frontend', 'senior', '-'],\n",
       " ['cpp', 'backend', 'junior', '-'],\n",
       " ['cpp', 'backend', 'junior', '-'],\n",
       " ['cpp', 'backend', 'senior', '-'],\n",
       " ['cpp', 'backend', 'senior', '-'],\n",
       " ['java', 'frontend', 'junior', '-'],\n",
       " ['java', 'frontend', 'junior', '-'],\n",
       " ['java', 'frontend', 'senior', '-'],\n",
       " ['java', 'frontend', 'senior', '-'],\n",
       " ['java', 'backend', 'junior', '-'],\n",
       " ['java', 'backend', 'junior', '-'],\n",
       " ['java', 'backend', 'senior', '-'],\n",
       " ['java', 'backend', 'senior', '-'],\n",
       " ['python', 'frontend', 'junior', '-'],\n",
       " ['python', 'frontend', 'junior', '-'],\n",
       " ['python', 'frontend', 'senior', '-'],\n",
       " ['python', 'frontend', 'senior', '-'],\n",
       " ['python', 'backend', 'junior', '-'],\n",
       " ['python', 'backend', 'junior', '-'],\n",
       " ['python', 'backend', 'senior', '-'],\n",
       " ['python', 'backend', 'senior', '-'],\n",
       " ['-', '-', 'junior', 'chicken'],\n",
       " ['-', '-', 'junior', 'pizza'],\n",
       " ['-', '-', 'senior', 'chicken'],\n",
       " ['-', '-', 'senior', 'pizza'],\n",
       " ['-', '-', 'junior', 'chicken'],\n",
       " ['-', '-', 'junior', 'pizza'],\n",
       " ['-', '-', 'senior', 'chicken'],\n",
       " ['-', '-', 'senior', 'pizza'],\n",
       " ['-', '-', 'junior', 'chicken'],\n",
       " ['-', '-', 'junior', 'pizza'],\n",
       " ['-', '-', 'senior', 'chicken'],\n",
       " ['-', '-', 'senior', 'pizza'],\n",
       " ['-', '-', 'junior', 'chicken'],\n",
       " ['-', '-', 'junior', 'pizza'],\n",
       " ['-', '-', 'senior', 'chicken'],\n",
       " ['-', '-', 'senior', 'pizza'],\n",
       " ['-', '-', 'junior', 'chicken'],\n",
       " ['-', '-', 'junior', 'pizza'],\n",
       " ['-', '-', 'senior', 'chicken'],\n",
       " ['-', '-', 'senior', 'pizza'],\n",
       " ['-', '-', 'junior', 'chicken'],\n",
       " ['-', '-', 'junior', 'pizza'],\n",
       " ['-', '-', 'senior', 'chicken'],\n",
       " ['-', '-', 'senior', 'pizza'],\n",
       " ['-', 'frontend', '-', 'chicken'],\n",
       " ['-', 'frontend', '-', 'pizza'],\n",
       " ['-', 'frontend', '-', 'chicken'],\n",
       " ['-', 'frontend', '-', 'pizza'],\n",
       " ['-', 'backend', '-', 'chicken'],\n",
       " ['-', 'backend', '-', 'pizza'],\n",
       " ['-', 'backend', '-', 'chicken'],\n",
       " ['-', 'backend', '-', 'pizza'],\n",
       " ['-', 'frontend', '-', 'chicken'],\n",
       " ['-', 'frontend', '-', 'pizza'],\n",
       " ['-', 'frontend', '-', 'chicken'],\n",
       " ['-', 'frontend', '-', 'pizza'],\n",
       " ['-', 'backend', '-', 'chicken'],\n",
       " ['-', 'backend', '-', 'pizza'],\n",
       " ['-', 'backend', '-', 'chicken'],\n",
       " ['-', 'backend', '-', 'pizza'],\n",
       " ['-', 'frontend', '-', 'chicken'],\n",
       " ['-', 'frontend', '-', 'pizza'],\n",
       " ['-', 'frontend', '-', 'chicken'],\n",
       " ['-', 'frontend', '-', 'pizza'],\n",
       " ['-', 'backend', '-', 'chicken'],\n",
       " ['-', 'backend', '-', 'pizza'],\n",
       " ['-', 'backend', '-', 'chicken'],\n",
       " ['-', 'backend', '-', 'pizza'],\n",
       " ['-', 'frontend', 'junior', '-'],\n",
       " ['-', 'frontend', 'junior', '-'],\n",
       " ['-', 'frontend', 'senior', '-'],\n",
       " ['-', 'frontend', 'senior', '-'],\n",
       " ['-', 'backend', 'junior', '-'],\n",
       " ['-', 'backend', 'junior', '-'],\n",
       " ['-', 'backend', 'senior', '-'],\n",
       " ['-', 'backend', 'senior', '-'],\n",
       " ['-', 'frontend', 'junior', '-'],\n",
       " ['-', 'frontend', 'junior', '-'],\n",
       " ['-', 'frontend', 'senior', '-'],\n",
       " ['-', 'frontend', 'senior', '-'],\n",
       " ['-', 'backend', 'junior', '-'],\n",
       " ['-', 'backend', 'junior', '-'],\n",
       " ['-', 'backend', 'senior', '-'],\n",
       " ['-', 'backend', 'senior', '-'],\n",
       " ['-', 'frontend', 'junior', '-'],\n",
       " ['-', 'frontend', 'junior', '-'],\n",
       " ['-', 'frontend', 'senior', '-'],\n",
       " ['-', 'frontend', 'senior', '-'],\n",
       " ['-', 'backend', 'junior', '-'],\n",
       " ['-', 'backend', 'junior', '-'],\n",
       " ['-', 'backend', 'senior', '-'],\n",
       " ['-', 'backend', 'senior', '-'],\n",
       " ['cpp', '-', '-', 'chicken'],\n",
       " ['cpp', '-', '-', 'pizza'],\n",
       " ['cpp', '-', '-', 'chicken'],\n",
       " ['cpp', '-', '-', 'pizza'],\n",
       " ['cpp', '-', '-', 'chicken'],\n",
       " ['cpp', '-', '-', 'pizza'],\n",
       " ['cpp', '-', '-', 'chicken'],\n",
       " ['cpp', '-', '-', 'pizza'],\n",
       " ['java', '-', '-', 'chicken'],\n",
       " ['java', '-', '-', 'pizza'],\n",
       " ['java', '-', '-', 'chicken'],\n",
       " ['java', '-', '-', 'pizza'],\n",
       " ['java', '-', '-', 'chicken'],\n",
       " ['java', '-', '-', 'pizza'],\n",
       " ['java', '-', '-', 'chicken'],\n",
       " ['java', '-', '-', 'pizza'],\n",
       " ['python', '-', '-', 'chicken'],\n",
       " ['python', '-', '-', 'pizza'],\n",
       " ['python', '-', '-', 'chicken'],\n",
       " ['python', '-', '-', 'pizza'],\n",
       " ['python', '-', '-', 'chicken'],\n",
       " ['python', '-', '-', 'pizza'],\n",
       " ['python', '-', '-', 'chicken'],\n",
       " ['python', '-', '-', 'pizza'],\n",
       " ['cpp', '-', 'junior', '-'],\n",
       " ['cpp', '-', 'junior', '-'],\n",
       " ['cpp', '-', 'senior', '-'],\n",
       " ['cpp', '-', 'senior', '-'],\n",
       " ['cpp', '-', 'junior', '-'],\n",
       " ['cpp', '-', 'junior', '-'],\n",
       " ['cpp', '-', 'senior', '-'],\n",
       " ['cpp', '-', 'senior', '-'],\n",
       " ['java', '-', 'junior', '-'],\n",
       " ['java', '-', 'junior', '-'],\n",
       " ['java', '-', 'senior', '-'],\n",
       " ['java', '-', 'senior', '-'],\n",
       " ['java', '-', 'junior', '-'],\n",
       " ['java', '-', 'junior', '-'],\n",
       " ['java', '-', 'senior', '-'],\n",
       " ['java', '-', 'senior', '-'],\n",
       " ['python', '-', 'junior', '-'],\n",
       " ['python', '-', 'junior', '-'],\n",
       " ['python', '-', 'senior', '-'],\n",
       " ['python', '-', 'senior', '-'],\n",
       " ['python', '-', 'junior', '-'],\n",
       " ['python', '-', 'junior', '-'],\n",
       " ['python', '-', 'senior', '-'],\n",
       " ['python', '-', 'senior', '-'],\n",
       " ['cpp', 'frontend', '-', '-'],\n",
       " ['cpp', 'frontend', '-', '-'],\n",
       " ['cpp', 'frontend', '-', '-'],\n",
       " ['cpp', 'frontend', '-', '-'],\n",
       " ['cpp', 'backend', '-', '-'],\n",
       " ['cpp', 'backend', '-', '-'],\n",
       " ['cpp', 'backend', '-', '-'],\n",
       " ['cpp', 'backend', '-', '-'],\n",
       " ['java', 'frontend', '-', '-'],\n",
       " ['java', 'frontend', '-', '-'],\n",
       " ['java', 'frontend', '-', '-'],\n",
       " ['java', 'frontend', '-', '-'],\n",
       " ['java', 'backend', '-', '-'],\n",
       " ['java', 'backend', '-', '-'],\n",
       " ['java', 'backend', '-', '-'],\n",
       " ['java', 'backend', '-', '-'],\n",
       " ['python', 'frontend', '-', '-'],\n",
       " ['python', 'frontend', '-', '-'],\n",
       " ['python', 'frontend', '-', '-'],\n",
       " ['python', 'frontend', '-', '-'],\n",
       " ['python', 'backend', '-', '-'],\n",
       " ['python', 'backend', '-', '-'],\n",
       " ['python', 'backend', '-', '-'],\n",
       " ['python', 'backend', '-', '-'],\n",
       " ['-', '-', '-', 'chicken'],\n",
       " ['-', '-', '-', 'pizza'],\n",
       " ['-', '-', '-', 'chicken'],\n",
       " ['-', '-', '-', 'pizza'],\n",
       " ['-', '-', '-', 'chicken'],\n",
       " ['-', '-', '-', 'pizza'],\n",
       " ['-', '-', '-', 'chicken'],\n",
       " ['-', '-', '-', 'pizza'],\n",
       " ['-', '-', '-', 'chicken'],\n",
       " ['-', '-', '-', 'pizza'],\n",
       " ['-', '-', '-', 'chicken'],\n",
       " ['-', '-', '-', 'pizza'],\n",
       " ['-', '-', '-', 'chicken'],\n",
       " ['-', '-', '-', 'pizza'],\n",
       " ['-', '-', '-', 'chicken'],\n",
       " ['-', '-', '-', 'pizza'],\n",
       " ['-', '-', '-', 'chicken'],\n",
       " ['-', '-', '-', 'pizza'],\n",
       " ['-', '-', '-', 'chicken'],\n",
       " ['-', '-', '-', 'pizza'],\n",
       " ['-', '-', '-', 'chicken'],\n",
       " ['-', '-', '-', 'pizza'],\n",
       " ['-', '-', '-', 'chicken'],\n",
       " ['-', '-', '-', 'pizza'],\n",
       " ['-', '-', 'junior', '-'],\n",
       " ['-', '-', 'junior', '-'],\n",
       " ['-', '-', 'senior', '-'],\n",
       " ['-', '-', 'senior', '-'],\n",
       " ['-', '-', 'junior', '-'],\n",
       " ['-', '-', 'junior', '-'],\n",
       " ['-', '-', 'senior', '-'],\n",
       " ['-', '-', 'senior', '-'],\n",
       " ['-', '-', 'junior', '-'],\n",
       " ['-', '-', 'junior', '-'],\n",
       " ['-', '-', 'senior', '-'],\n",
       " ['-', '-', 'senior', '-'],\n",
       " ['-', '-', 'junior', '-'],\n",
       " ['-', '-', 'junior', '-'],\n",
       " ['-', '-', 'senior', '-'],\n",
       " ['-', '-', 'senior', '-'],\n",
       " ['-', '-', 'junior', '-'],\n",
       " ['-', '-', 'junior', '-'],\n",
       " ['-', '-', 'senior', '-'],\n",
       " ['-', '-', 'senior', '-'],\n",
       " ['-', '-', 'junior', '-'],\n",
       " ['-', '-', 'junior', '-'],\n",
       " ['-', '-', 'senior', '-'],\n",
       " ['-', '-', 'senior', '-'],\n",
       " ['-', 'frontend', '-', '-'],\n",
       " ['-', 'frontend', '-', '-'],\n",
       " ['-', 'frontend', '-', '-'],\n",
       " ['-', 'frontend', '-', '-'],\n",
       " ['-', 'backend', '-', '-'],\n",
       " ['-', 'backend', '-', '-'],\n",
       " ['-', 'backend', '-', '-'],\n",
       " ['-', 'backend', '-', '-'],\n",
       " ['-', 'frontend', '-', '-'],\n",
       " ['-', 'frontend', '-', '-'],\n",
       " ['-', 'frontend', '-', '-'],\n",
       " ['-', 'frontend', '-', '-'],\n",
       " ['-', 'backend', '-', '-'],\n",
       " ['-', 'backend', '-', '-'],\n",
       " ['-', 'backend', '-', '-'],\n",
       " ['-', 'backend', '-', '-'],\n",
       " ['-', 'frontend', '-', '-'],\n",
       " ['-', 'frontend', '-', '-'],\n",
       " ['-', 'frontend', '-', '-'],\n",
       " ['-', 'frontend', '-', '-'],\n",
       " ['-', 'backend', '-', '-'],\n",
       " ['-', 'backend', '-', '-'],\n",
       " ['-', 'backend', '-', '-'],\n",
       " ['-', 'backend', '-', '-'],\n",
       " ['cpp', '-', '-', '-'],\n",
       " ['cpp', '-', '-', '-'],\n",
       " ['cpp', '-', '-', '-'],\n",
       " ['cpp', '-', '-', '-'],\n",
       " ['cpp', '-', '-', '-'],\n",
       " ['cpp', '-', '-', '-'],\n",
       " ['cpp', '-', '-', '-'],\n",
       " ['cpp', '-', '-', '-'],\n",
       " ['java', '-', '-', '-'],\n",
       " ['java', '-', '-', '-'],\n",
       " ['java', '-', '-', '-'],\n",
       " ['java', '-', '-', '-'],\n",
       " ['java', '-', '-', '-'],\n",
       " ['java', '-', '-', '-'],\n",
       " ['java', '-', '-', '-'],\n",
       " ['java', '-', '-', '-'],\n",
       " ['python', '-', '-', '-'],\n",
       " ['python', '-', '-', '-'],\n",
       " ['python', '-', '-', '-'],\n",
       " ['python', '-', '-', '-'],\n",
       " ['python', '-', '-', '-'],\n",
       " ['python', '-', '-', '-'],\n",
       " ['python', '-', '-', '-'],\n",
       " ['python', '-', '-', '-'],\n",
       " ['-', '-', '-', '-'],\n",
       " ['-', '-', '-', '-'],\n",
       " ['-', '-', '-', '-'],\n",
       " ['-', '-', '-', '-'],\n",
       " ['-', '-', '-', '-'],\n",
       " ['-', '-', '-', '-'],\n",
       " ['-', '-', '-', '-'],\n",
       " ['-', '-', '-', '-'],\n",
       " ['-', '-', '-', '-'],\n",
       " ['-', '-', '-', '-'],\n",
       " ['-', '-', '-', '-'],\n",
       " ['-', '-', '-', '-'],\n",
       " ['-', '-', '-', '-'],\n",
       " ['-', '-', '-', '-'],\n",
       " ['-', '-', '-', '-'],\n",
       " ['-', '-', '-', '-'],\n",
       " ['-', '-', '-', '-'],\n",
       " ['-', '-', '-', '-'],\n",
       " ['-', '-', '-', '-'],\n",
       " ['-', '-', '-', '-'],\n",
       " ['-', '-', '-', '-'],\n",
       " ['-', '-', '-', '-'],\n",
       " ['-', '-', '-', '-'],\n",
       " ['-', '-', '-', '-']]"
      ]
     },
     "execution_count": 56,
     "metadata": {},
     "output_type": "execute_result"
    }
   ],
   "source": [
    "key_tmp"
   ]
  },
  {
   "cell_type": "code",
   "execution_count": 26,
   "id": "2c22438d",
   "metadata": {},
   "outputs": [
    {
     "data": {
      "text/plain": [
       "[['cpp', 'frontend', 'junior', 'chicken'],\n",
       " ['cpp', 'frontend', 'junior', 'pizza'],\n",
       " ['cpp', 'frontend', 'senior', 'chicken'],\n",
       " ['cpp', 'frontend', 'senior', 'pizza'],\n",
       " ['cpp', 'backend', 'junior', 'chicken'],\n",
       " ['cpp', 'backend', 'junior', 'pizza'],\n",
       " ['cpp', 'backend', 'senior', 'chicken'],\n",
       " ['cpp', 'backend', 'senior', 'pizza'],\n",
       " ['java', 'frontend', 'junior', 'chicken'],\n",
       " ['java', 'frontend', 'junior', 'pizza'],\n",
       " ['java', 'frontend', 'senior', 'chicken'],\n",
       " ['java', 'frontend', 'senior', 'pizza'],\n",
       " ['java', 'backend', 'junior', 'chicken'],\n",
       " ['java', 'backend', 'junior', 'pizza'],\n",
       " ['java', 'backend', 'senior', 'chicken'],\n",
       " ['java', 'backend', 'senior', 'pizza'],\n",
       " ['python', 'frontend', 'junior', 'chicken'],\n",
       " ['python', 'frontend', 'junior', 'pizza'],\n",
       " ['python', 'frontend', 'senior', 'chicken'],\n",
       " ['python', 'frontend', 'senior', 'pizza'],\n",
       " ['python', 'backend', 'junior', 'chicken'],\n",
       " ['python', 'backend', 'junior', 'pizza'],\n",
       " ['python', 'backend', 'senior', 'chicken'],\n",
       " ['python', 'backend', 'senior', 'pizza']]"
      ]
     },
     "execution_count": 26,
     "metadata": {},
     "output_type": "execute_result"
    }
   ],
   "source": [
    "[[l,d,c,f] for l in lan for d in dept for c in career for f in food]"
   ]
  },
  {
   "cell_type": "code",
   "execution_count": 21,
   "id": "1887dbbd",
   "metadata": {},
   "outputs": [
    {
     "data": {
      "text/plain": [
       "108"
      ]
     },
     "execution_count": 21,
     "metadata": {},
     "output_type": "execute_result"
    }
   ],
   "source": [
    "len(data.keys())"
   ]
  },
  {
   "cell_type": "code",
   "execution_count": 22,
   "id": "becc4191",
   "metadata": {},
   "outputs": [
    {
     "data": {
      "text/plain": [
       "dict_keys(['----', 'cppfrontendjuniorchicken', 'cppfrontendjuniorpizza', 'cppfrontendseniorchicken', 'cppfrontendseniorpizza', 'cppbackendjuniorchicken', 'cppbackendjuniorpizza', 'cppbackendseniorchicken', 'cppbackendseniorpizza', 'javafrontendjuniorchicken', 'javafrontendjuniorpizza', 'javafrontendseniorchicken', 'javafrontendseniorpizza', 'javabackendjuniorchicken', 'javabackendjuniorpizza', 'javabackendseniorchicken', 'javabackendseniorpizza', 'pythonfrontendjuniorchicken', 'pythonfrontendjuniorpizza', 'pythonfrontendseniorchicken', 'pythonfrontendseniorpizza', 'pythonbackendjuniorchicken', 'pythonbackendjuniorpizza', 'pythonbackendseniorchicken', 'pythonbackendseniorpizza', '-frontendjuniorchicken', '-frontendjuniorpizza', '-frontendseniorchicken', '-frontendseniorpizza', '-backendjuniorchicken', '-backendjuniorpizza', '-backendseniorchicken', '-backendseniorpizza', 'cpp-juniorchicken', 'cpp-juniorpizza', 'cpp-seniorchicken', 'cpp-seniorpizza', 'java-juniorchicken', 'java-juniorpizza', 'java-seniorchicken', 'java-seniorpizza', 'python-juniorchicken', 'python-juniorpizza', 'python-seniorchicken', 'python-seniorpizza', 'cppfrontend-chicken', 'cppfrontend-pizza', 'cppbackend-chicken', 'cppbackend-pizza', 'javafrontend-chicken', 'javafrontend-pizza', 'javabackend-chicken', 'javabackend-pizza', 'pythonfrontend-chicken', 'pythonfrontend-pizza', 'pythonbackend-chicken', 'pythonbackend-pizza', 'cppfrontendjunior-', 'cppfrontendsenior-', 'cppbackendjunior-', 'cppbackendsenior-', 'javafrontendjunior-', 'javafrontendsenior-', 'javabackendjunior-', 'javabackendsenior-', 'pythonfrontendjunior-', 'pythonfrontendsenior-', 'pythonbackendjunior-', 'pythonbackendsenior-', '--juniorchicken', '--juniorpizza', '--seniorchicken', '--seniorpizza', '-frontend-chicken', '-frontend-pizza', '-backend-chicken', '-backend-pizza', '-frontendjunior-', '-frontendsenior-', '-backendjunior-', '-backendsenior-', 'cpp--chicken', 'cpp--pizza', 'java--chicken', 'java--pizza', 'python--chicken', 'python--pizza', 'cpp-junior-', 'cpp-senior-', 'java-junior-', 'java-senior-', 'python-junior-', 'python-senior-', 'cppfrontend--', 'cppbackend--', 'javafrontend--', 'javabackend--', 'pythonfrontend--', 'pythonbackend--', '---chicken', '---pizza', '--junior-', '--senior-', '-frontend--', '-backend--', 'cpp---', 'java---', 'python---'])"
      ]
     },
     "execution_count": 22,
     "metadata": {},
     "output_type": "execute_result"
    }
   ],
   "source": [
    "data.keys()"
   ]
  },
  {
   "cell_type": "code",
   "execution_count": 19,
   "id": "605cf85f",
   "metadata": {},
   "outputs": [
    {
     "data": {
      "text/plain": [
       "2304"
      ]
     },
     "execution_count": 19,
     "metadata": {},
     "output_type": "execute_result"
    }
   ],
   "source": [
    "3*2*2*2*4*6*4"
   ]
  },
  {
   "cell_type": "code",
   "execution_count": 17,
   "id": "2f4eb4b1",
   "metadata": {},
   "outputs": [
    {
     "name": "stdout",
     "output_type": "stream",
     "text": [
      "108\n"
     ]
    },
    {
     "data": {
      "text/plain": [
       "[1, 1, 1, 1, 2, 4]"
      ]
     },
     "execution_count": 17,
     "metadata": {},
     "output_type": "execute_result"
    }
   ],
   "source": [
    "solution(info, query)"
   ]
  },
  {
   "cell_type": "code",
   "execution_count": 93,
   "id": "c5c0bc0f",
   "metadata": {},
   "outputs": [
    {
     "data": {
      "text/plain": [
       "{'javabackendjuniorpizza': [150],\n",
       " '-backendjuniorpizza': [150],\n",
       " 'java-juniorpizza': [150],\n",
       " 'javabackend-pizza': [150],\n",
       " 'javabackendjunior-': [150, 80],\n",
       " '--juniorpizza': [150],\n",
       " '-backend-pizza': [150, 260],\n",
       " '-backendjunior-': [150, 80],\n",
       " 'java--pizza': [150],\n",
       " 'java-junior-': [150, 80],\n",
       " 'javabackend--': [150, 80],\n",
       " '---pizza': [150, 260],\n",
       " '--junior-': [150, 80],\n",
       " '-backend--': [150, 260, 80, 50],\n",
       " 'java---': [150, 80],\n",
       " 'pythonfrontendseniorchicken': [210, 150],\n",
       " '-frontendseniorchicken': [210, 150],\n",
       " 'python-seniorchicken': [210, 150, 50],\n",
       " 'pythonfrontend-chicken': [210, 150],\n",
       " 'pythonfrontendsenior-': [210, 150],\n",
       " '--seniorchicken': [210, 150, 50],\n",
       " '-frontend-chicken': [210, 150],\n",
       " '-frontendsenior-': [210, 150],\n",
       " 'python--chicken': [210, 150, 50],\n",
       " 'python-senior-': [210, 150, 50],\n",
       " 'pythonfrontend--': [210, 150],\n",
       " '---chicken': [210, 150, 80, 50],\n",
       " '--senior-': [210, 150, 260, 50],\n",
       " '-frontend--': [210, 150],\n",
       " 'python---': [210, 150, 50],\n",
       " 'cppbackendseniorpizza': [260],\n",
       " '-backendseniorpizza': [260],\n",
       " 'cpp-seniorpizza': [260],\n",
       " 'cppbackend-pizza': [260],\n",
       " 'cppbackendsenior-': [260],\n",
       " '--seniorpizza': [260],\n",
       " '-backendsenior-': [260, 50],\n",
       " 'cpp--pizza': [260],\n",
       " 'cpp-senior-': [260],\n",
       " 'cppbackend--': [260],\n",
       " 'cpp---': [260],\n",
       " 'javabackendjuniorchicken': [80],\n",
       " '-backendjuniorchicken': [80],\n",
       " 'java-juniorchicken': [80],\n",
       " 'javabackend-chicken': [80],\n",
       " '--juniorchicken': [80],\n",
       " '-backend-chicken': [80, 50],\n",
       " 'java--chicken': [80],\n",
       " 'pythonbackendseniorchicken': [50],\n",
       " '-backendseniorchicken': [50],\n",
       " 'pythonbackend-chicken': [50],\n",
       " 'pythonbackendsenior-': [50],\n",
       " 'pythonbackend--': [50]}"
      ]
     },
     "execution_count": 93,
     "metadata": {},
     "output_type": "execute_result"
    }
   ],
   "source": [
    "from itertools import combinations\n",
    "\n",
    "data = dict()\n",
    "\n",
    "no_criteria_idx_combs = []\n",
    "for i in range(4):\n",
    "    no_criteria_idx_combs.extend(list(combinations(range(4), i)))\n",
    "    \n",
    "for applicant in info:\n",
    "    applicant = applicant.split()\n",
    "    test_score = int(applicant[-1])\n",
    "    \n",
    "    for idx_comb in no_criteria_idx_combs:\n",
    "        make_key = applicant.copy()\n",
    "        for idx in idx_comb:\n",
    "            make_key[idx] = '-'\n",
    "        key = ''.join(make_key[:-1])\n",
    "\n",
    "        if key in data.keys():\n",
    "            data[key].append(test_score)\n",
    "        else:\n",
    "            data[key] = [test_score]\n",
    "                \n",
    "                \n",
    "data"
   ]
  },
  {
   "cell_type": "code",
   "execution_count": 74,
   "id": "06e5350e",
   "metadata": {},
   "outputs": [],
   "source": [
    "for i in no_criteria_idx_combs[0]:\n",
    "    print(i)"
   ]
  },
  {
   "cell_type": "code",
   "execution_count": 37,
   "id": "9097cc2b",
   "metadata": {},
   "outputs": [],
   "source": [
    "data = dict()\n",
    "\n",
    "for applicant in info:\n",
    "    applicant = applicant.split()\n",
    "    test_score = int(applicant[-1])\n",
    "    \n",
    "    for i in range(4):\n",
    "        make_key = applicant.copy()\n",
    "        make_key[i] = '-'\n",
    "        key = ''.join(make_key[:-1])\n",
    "        if key in data.keys():\n",
    "            data[key].append(test_score)\n",
    "        else:\n",
    "            data[key] = [test_score]\n",
    "    \n",
    "    key = ''.join(applicant[:-1])\n",
    "    if key in data.keys():\n",
    "        data[key].append(test_score)\n",
    "    else:\n",
    "        data[key] = [test_score]"
   ]
  },
  {
   "cell_type": "code",
   "execution_count": 60,
   "id": "1f7ee452",
   "metadata": {},
   "outputs": [
    {
     "data": {
      "text/plain": [
       "1"
      ]
     },
     "execution_count": 60,
     "metadata": {},
     "output_type": "execute_result"
    }
   ],
   "source": [
    "q = query[0].split(' and ')\n",
    "soul_food, score = q[-1].split()\n",
    "q = ''.join(q[:-1] + [soul_food])\n",
    "\n",
    "sum(1 for _ in filter(lambda score: score>=int(score), data[q]))\n",
    "sum(1 for sc in data[q] if sc >= int(score))"
   ]
  },
  {
   "cell_type": "code",
   "execution_count": null,
   "id": "590374ae",
   "metadata": {},
   "outputs": [],
   "source": [
    "def get_idx(q):\n",
    "    \n",
    "    q = q.split(' and ')\n",
    "    soul_food, score = q[-1].split()\n",
    "    q = ''.join(q[:-1] + [soul_food])\n",
    "    \n",
    "    return sum(1 for sc in data[q] if sc >= int(score))"
   ]
  },
  {
   "cell_type": "code",
   "execution_count": 38,
   "id": "2a394b48",
   "metadata": {},
   "outputs": [
    {
     "data": {
      "text/plain": [
       "{'-backendjuniorpizza': [150],\n",
       " 'java-juniorpizza': [150],\n",
       " 'javabackend-pizza': [150],\n",
       " 'javabackendjunior-': [150, 80],\n",
       " 'javabackendjuniorpizza': [150],\n",
       " '-frontendseniorchicken': [210, 150],\n",
       " 'python-seniorchicken': [210, 150, 50],\n",
       " 'pythonfrontend-chicken': [210, 150],\n",
       " 'pythonfrontendsenior-': [210, 150],\n",
       " 'pythonfrontendseniorchicken': [210, 150],\n",
       " '-backendseniorpizza': [260],\n",
       " 'cpp-seniorpizza': [260],\n",
       " 'cppbackend-pizza': [260],\n",
       " 'cppbackendsenior-': [260],\n",
       " 'cppbackendseniorpizza': [260],\n",
       " '-backendjuniorchicken': [80],\n",
       " 'java-juniorchicken': [80],\n",
       " 'javabackend-chicken': [80],\n",
       " 'javabackendjuniorchicken': [80],\n",
       " '-backendseniorchicken': [50],\n",
       " 'pythonbackend-chicken': [50],\n",
       " 'pythonbackendsenior-': [50],\n",
       " 'pythonbackendseniorchicken': [50]}"
      ]
     },
     "execution_count": 38,
     "metadata": {},
     "output_type": "execute_result"
    }
   ],
   "source": [
    "data"
   ]
  },
  {
   "cell_type": "code",
   "execution_count": null,
   "id": "2e704047",
   "metadata": {},
   "outputs": [],
   "source": [
    "def get_idx(query):\n",
    "    \n",
    "    query = query.split(' and ')\n",
    "    query = query[:-1] + query[-1].split()\n",
    "    \n",
    "    result = set(range(len(info)))\n",
    "\n",
    "    for key, criteria in zip(data, query):\n",
    "        \n",
    "        if criteria == '-':\n",
    "            continue\n",
    "        if key == 'SC':\n",
    "            result = result.intersection(\n",
    "                        set([applicant[0] for applicant in data[key] if int(applicant[1])>=int(criteria)]))\n",
    "            break\n",
    "\n",
    "        result = result.intersection(\n",
    "                    set([applicant[0] for applicant in data[key] if applicant[1]==criteria]))\n",
    "\n",
    "    return result"
   ]
  },
  {
   "cell_type": "code",
   "execution_count": 5,
   "id": "89e752bc",
   "metadata": {},
   "outputs": [
    {
     "data": {
      "text/plain": [
       "[1, 1, 1, 1, 2, 4]"
      ]
     },
     "execution_count": 5,
     "metadata": {},
     "output_type": "execute_result"
    }
   ],
   "source": [
    "def get_idx(query):\n",
    "    \n",
    "    query = query.split(' and ')\n",
    "    query = query[:-1] + query[-1].split()\n",
    "    \n",
    "    result = set(range(len(info)))\n",
    "\n",
    "    for key, criteria in zip(data, query):\n",
    "        \n",
    "        if criteria == '-':\n",
    "            continue\n",
    "        if key == 'SC':\n",
    "            result = result.intersection(\n",
    "                        set([applicant[0] for applicant in data[key] if int(applicant[1])>=int(criteria)]))\n",
    "            break\n",
    "\n",
    "        result = result.intersection(\n",
    "                    set([applicant[0] for applicant in data[key] if applicant[1]==criteria]))\n",
    "\n",
    "    return result\n",
    "\n",
    "def solution(info, query):\n",
    "    \n",
    "    global data\n",
    "    data = {key:[] for key in ['LAN', 'DPT', 'CRR', 'SF', 'SC']}\n",
    "\n",
    "    for idx, applicant in enumerate(info):\n",
    "        for key, val in zip(data, applicant.split(' ')):\n",
    "            data[key].append((idx, val))\n",
    "            \n",
    "    return [len(get_idx(q)) for q in query]\n",
    "\n",
    "solution(info, query)"
   ]
  },
  {
   "cell_type": "code",
   "execution_count": 29,
   "id": "bfd21ed9",
   "metadata": {},
   "outputs": [
    {
     "name": "stdout",
     "output_type": "stream",
     "text": [
      "['java']\n"
     ]
    },
    {
     "data": {
      "text/plain": [
       "{0, 4}"
      ]
     },
     "execution_count": 29,
     "metadata": {},
     "output_type": "execute_result"
    }
   ],
   "source": [
    "query = query[0]\n",
    "query = query.split(' and ')\n",
    "query = query[:-1] + query[-1].split()\n",
    "print(query)\n",
    "\n",
    "result = set(range(len(info)))\n",
    "\n",
    "for key, criteria in zip(data, query):\n",
    "\n",
    "    if criteria == '-':\n",
    "        continue\n",
    "    if key == 'SC':\n",
    "        result = result.intersection(\n",
    "                    set([applicant[0] for applicant in data[key] if int(applicant[1])>=int(criteria)]))\n",
    "        break\n",
    "\n",
    "    result = result.intersection(\n",
    "                set([applicant[0] for applicant in data[key] if applicant[1]==criteria]))\n",
    "    \n",
    "result"
   ]
  },
  {
   "cell_type": "code",
   "execution_count": null,
   "id": "9f09e572",
   "metadata": {},
   "outputs": [],
   "source": []
  },
  {
   "cell_type": "code",
   "execution_count": 24,
   "id": "37181883",
   "metadata": {},
   "outputs": [
    {
     "name": "stdout",
     "output_type": "stream",
     "text": [
      "['java', 'python', 'python', 'cpp', 'java', 'python']\n"
     ]
    },
    {
     "data": {
      "text/plain": [
       "4"
      ]
     },
     "execution_count": 24,
     "metadata": {},
     "output_type": "execute_result"
    }
   ],
   "source": [
    "data1 = [x[1] for x in data['LAN']]\n",
    "print(data1)\n",
    "data1.index('java')"
   ]
  },
  {
   "cell_type": "code",
   "execution_count": 28,
   "id": "f54c527d",
   "metadata": {},
   "outputs": [
    {
     "name": "stdout",
     "output_type": "stream",
     "text": [
      "Help on built-in function index:\n",
      "\n",
      "index(value, start=0, stop=9223372036854775807, /) method of builtins.list instance\n",
      "    Return first index of value.\n",
      "    \n",
      "    Raises ValueError if the value is not present.\n",
      "\n"
     ]
    }
   ],
   "source": [
    "help([].index)"
   ]
  }
 ],
 "metadata": {
  "kernelspec": {
   "display_name": "Python 3 (ipykernel)",
   "language": "python",
   "name": "python3"
  },
  "language_info": {
   "codemirror_mode": {
    "name": "ipython",
    "version": 3
   },
   "file_extension": ".py",
   "mimetype": "text/x-python",
   "name": "python",
   "nbconvert_exporter": "python",
   "pygments_lexer": "ipython3",
   "version": "3.9.13"
  }
 },
 "nbformat": 4,
 "nbformat_minor": 5
}
