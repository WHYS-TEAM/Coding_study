{
 "cells": [
  {
   "cell_type": "code",
   "execution_count": null,
   "id": "b0f95146",
   "metadata": {},
   "outputs": [],
   "source": [
    "# https://school.programmers.co.kr/learn/courses/30/lessons/42628\n",
    "import heapq\n",
    "def solution(operations):\n",
    "    heap = []\n",
    "    answer = [0, 0]\n",
    "    for opernum in operations:\n",
    "        oper, num = opernum.split()\n",
    "        num = int(num)\n",
    "        if oper == 'I':\n",
    "            heapq.heappush(heap, num)\n",
    "        elif oper == 'D':\n",
    "            if heap == []:\n",
    "                continue\n",
    "            else:\n",
    "                if num == -1:\n",
    "                    heap.pop(0)\n",
    "                elif num == 1:\n",
    "                    heap.pop()\n",
    "        \n",
    "    if heap == []:\n",
    "        return answer\n",
    "    else:\n",
    "        if len(heap) == 1:\n",
    "            answer = [heap[0], heap[0]]\n",
    "        else:\n",
    "            answer = [heap[-1], heap[0]]\n",
    "            \n",
    "    return answer"
   ]
  }
 ],
 "metadata": {
  "kernelspec": {
   "display_name": "Python 3 (ipykernel)",
   "language": "python",
   "name": "python3"
  },
  "language_info": {
   "codemirror_mode": {
    "name": "ipython",
    "version": 3
   },
   "file_extension": ".py",
   "mimetype": "text/x-python",
   "name": "python",
   "nbconvert_exporter": "python",
   "pygments_lexer": "ipython3",
   "version": "3.9.7"
  }
 },
 "nbformat": 4,
 "nbformat_minor": 5
}
