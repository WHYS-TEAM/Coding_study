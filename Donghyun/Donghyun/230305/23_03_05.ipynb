{
  "nbformat": 4,
  "nbformat_minor": 0,
  "metadata": {
    "colab": {
      "provenance": []
    },
    "kernelspec": {
      "name": "python3",
      "display_name": "Python 3"
    },
    "language_info": {
      "name": "python"
    }
  },
  "cells": [
    {
      "cell_type": "markdown",
      "source": [
        "https://school.programmers.co.kr/learn/courses/30/lessons/1844?language=python3\n",
        "\n",
        "게임 맵 최단거리(Level 2)"
      ],
      "metadata": {
        "id": "0ivkGzGzLofu"
      }
    },
    {
      "cell_type": "code",
      "execution_count": 72,
      "metadata": {
        "id": "_snfgSiPCGlA"
      },
      "outputs": [],
      "source": [
        "def bfs(maps, x, y, visited):\n",
        "    need_visit = [] # 추후 방문해야 하는 지점 저장\n",
        "    need_visit.append((x, y)) # 맨 처음 지점 append\n",
        "    \n",
        "    visited[x][y] = True # 맨 처음 지점은 방문함\n",
        "    distance = {(x, y) : 1} # 거리를 저장\n",
        "    \n",
        "    while need_visit:\n",
        "        node_x, node_y = need_visit.pop(0)\n",
        "        \n",
        "        for i in range(4):\n",
        "            # 북쪽\n",
        "            if i == 0:\n",
        "                new_x = node_x-1; new_y = node_y\n",
        "            # 남쪽\n",
        "            elif i == 1:\n",
        "                new_x = node_x+1; new_y = node_y\n",
        "            # 서쪽\n",
        "            elif i == 2:\n",
        "                new_y = node_y-1; new_x = node_x\n",
        "            # 동쪽\n",
        "            elif i == 3:\n",
        "                new_y = node_y+1; new_x = node_x\n",
        "            \n",
        "            # 새로운 x, y 좌표가 map을 벗어나지 않으면서, 방문한 적은 없고, 길이 연결되어 있어야 함\n",
        "            if 0 <= new_x < n and 0 <= new_y < m and visited[new_x][new_y] == False and maps[new_x][new_y] == 1:\n",
        "                # 목표 지점에 도달한 경우\n",
        "                if (new_x, new_y) == (n-1, m-1):\n",
        "                    print(distance)\n",
        "                    return distance[(node_x, node_y)] + 1\n",
        "                \n",
        "                need_visit.append((new_x, new_y))\n",
        "                distance[(new_x, new_y)] = distance[(node_x, node_y)] + 1\n",
        "                visited[new_x][new_y] = True\n",
        "    \n",
        "    return -1\n",
        "                \n",
        "                \n",
        "        \n",
        "    \n",
        "    \n",
        "\n",
        "def solution(maps):\n",
        "    global n, m\n",
        "    n = len(maps) # 세로 개수\n",
        "    m = len(maps[0]) # 가로 개수\n",
        "    visited = [[False for i in range(m)] for j in range(n)] # 방문한 기록을 저장하는 맵 만들기\n",
        "    return bfs(maps, 0, 0, visited)"
      ]
    },
    {
      "cell_type": "code",
      "source": [
        "solution([[1,0,1,1,1],[1,0,1,0,1],[1,0,1,1,1],[1,1,1,0,1],[0,0,0,0,1]])"
      ],
      "metadata": {
        "colab": {
          "base_uri": "https://localhost:8080/"
        },
        "id": "xTmAZx_zFbeU",
        "outputId": "3770b919-1fd8-47bf-80f1-e530a9097dba"
      },
      "execution_count": 69,
      "outputs": [
        {
          "output_type": "stream",
          "name": "stdout",
          "text": [
            "3 4 {(0, 0): 1, (1, 0): 2, (2, 0): 3, (3, 0): 4, (3, 1): 5, (3, 2): 6, (2, 2): 7, (1, 2): 8, (2, 3): 8, (0, 2): 9, (2, 4): 9, (0, 3): 10, (1, 4): 10, (3, 4): 10, (0, 4): 11}\n"
          ]
        },
        {
          "output_type": "execute_result",
          "data": {
            "text/plain": [
              "11"
            ]
          },
          "metadata": {},
          "execution_count": 69
        }
      ]
    },
    {
      "cell_type": "markdown",
      "source": [
        "![제목 없음.png](data:image/png;base64,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)"
      ],
      "metadata": {
        "id": "gmW3Y-GoJlyS"
      }
    },
    {
      "cell_type": "markdown",
      "source": [
        "https://school.programmers.co.kr/learn/courses/30/lessons/68644\n",
        "\n",
        " 두 개 뽑아서 더하기(Level 1)"
      ],
      "metadata": {
        "id": "qxcQI0g6KHW5"
      }
    },
    {
      "cell_type": "code",
      "source": [
        "from itertools import combinations\n",
        "def solution(numbers):\n",
        "    # numbers에 있는 요소들 중 2개를 뽑아서 조합으로 만들고 이를 list로 만듦\n",
        "    # 이 list에 각 요소에 대해서 두 요소를 더해야 하므로 map과 lambda로 이를 구현\n",
        "    # map은 객체를 만들어내므로 list로 감싸고, 같은 값이 있으면 안되니 set으로 감싼 다음 오름차순으로 정렬 \n",
        "    \n",
        "    # 1. numbers에 있는 요소들 중 2개를 뽑아서 조합으로 만들고 이를 list로 만듦\n",
        "    target_lst = list(combinations(numbers, 2))\n",
        "\n",
        "    # 2. list의 두 요소를 더함. map과 lambda 함수를 사용. map 함수는 map 객체를 만드므로 list로 감싸서 list로 내뱉게 함\n",
        "    print(\"First step: \", list(map(lambda x:x[0]+x[1], target_lst)))\n",
        "\n",
        "    # 3. 동일한 값들이 있을 수 있으므로 이를 제거하기 위해 집합으로 만들어줌\n",
        "    print(\"Second step: \", set(list(map(lambda x:x[0]+x[1], list(combinations(numbers, 2))))))\n",
        "\n",
        "    # 결과가 오름차순 정렬이므로 이를 sort해서 list로 나오게 해줌\n",
        "    return sorted(set(list(map(lambda x:x[0]+x[1], list(combinations(numbers, 2))))))"
      ],
      "metadata": {
        "id": "vWrErLfsJlex"
      },
      "execution_count": 84,
      "outputs": []
    },
    {
      "cell_type": "code",
      "source": [
        "solution([2, 1, 3, 4, 1])"
      ],
      "metadata": {
        "colab": {
          "base_uri": "https://localhost:8080/"
        },
        "id": "MrveVHpmKK21",
        "outputId": "92e261be-61aa-4606-f834-55d8641845c0"
      },
      "execution_count": 85,
      "outputs": [
        {
          "output_type": "stream",
          "name": "stdout",
          "text": [
            "First step:  [3, 5, 6, 3, 4, 5, 2, 7, 4, 5]\n",
            "Second step:  {2, 3, 4, 5, 6, 7}\n"
          ]
        },
        {
          "output_type": "execute_result",
          "data": {
            "text/plain": [
              "[2, 3, 4, 5, 6, 7]"
            ]
          },
          "metadata": {},
          "execution_count": 85
        }
      ]
    },
    {
      "cell_type": "code",
      "source": [],
      "metadata": {
        "id": "i4FUdgA5CLsM"
      },
      "execution_count": null,
      "outputs": []
    }
  ]
}