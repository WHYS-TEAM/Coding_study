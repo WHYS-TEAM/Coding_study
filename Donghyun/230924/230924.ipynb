{
  "nbformat": 4,
  "nbformat_minor": 0,
  "metadata": {
    "colab": {
      "provenance": []
    },
    "kernelspec": {
      "name": "python3",
      "display_name": "Python 3"
    },
    "language_info": {
      "name": "python"
    }
  },
  "cells": [
    {
      "cell_type": "markdown",
      "source": [
        "**구명보트**"
      ],
      "metadata": {
        "id": "jnYQjdjnSffF"
      }
    },
    {
      "cell_type": "code",
      "execution_count": 55,
      "metadata": {
        "id": "K5yT9lewLly_"
      },
      "outputs": [],
      "source": [
        "def solution(people, limit):\n",
        "    answer = 0\n",
        "\n",
        "    people.sort() # 오름차순 정렬\n",
        "\n",
        "    left_idx = 0\n",
        "    right_idx = len(people)-1\n",
        "\n",
        "    while left_idx < right_idx: # idx 순서가 유지되는 동안에만 작동\n",
        "        if people[left_idx] + people[right_idx] > limit: # 최소 + 최대 > 제한, 최대만 보냄\n",
        "            right_idx -= 1\n",
        "            answer += 1\n",
        "        else: # 최소 + 최대 <= 제한, 같이 보냄\n",
        "            left_idx += 1\n",
        "            right_idx -= 1\n",
        "            answer += 1\n",
        "\n",
        "    if left_idx == right_idx: # 이 경우는 배에 한명만 태워서 보내는 경우임.\n",
        "        answer += 1\n",
        "\n",
        "    return answer"
      ]
    },
    {
      "cell_type": "code",
      "source": [
        "solution([70, 50, 80, 50], 100)"
      ],
      "metadata": {
        "colab": {
          "base_uri": "https://localhost:8080/"
        },
        "id": "ZCzlk6ZDLoCS",
        "outputId": "5cb8a5e4-054b-42a1-9e01-6b13464659bf"
      },
      "execution_count": 56,
      "outputs": [
        {
          "output_type": "execute_result",
          "data": {
            "text/plain": [
              "3"
            ]
          },
          "metadata": {},
          "execution_count": 56
        }
      ]
    },
    {
      "cell_type": "code",
      "source": [
        "solution([70, 80, 50], 100)"
      ],
      "metadata": {
        "colab": {
          "base_uri": "https://localhost:8080/"
        },
        "id": "E2B40YXZMo2y",
        "outputId": "872300b9-bbfd-42e7-ef3d-3b1f0b2d51c5"
      },
      "execution_count": 57,
      "outputs": [
        {
          "output_type": "execute_result",
          "data": {
            "text/plain": [
              "3"
            ]
          },
          "metadata": {},
          "execution_count": 57
        }
      ]
    },
    {
      "cell_type": "markdown",
      "source": [
        "**짝지어 제거하기**"
      ],
      "metadata": {
        "id": "QKejlkpRTO2e"
      }
    },
    {
      "cell_type": "code",
      "source": [
        "def solution(s):\n",
        "    answer = -1\n",
        "\n",
        "    check_l = list() # 빈 리스트 생성\n",
        "    for alpha in s:\n",
        "        check_l.append(alpha) # 각 요소들을 리스트에 담고\n",
        "        if len(check_l) > 1 and check_l[-1] == check_l[-2]: # 맨 뒤 두개가 같으면 pop(like stack)\n",
        "            check_l.pop()\n",
        "            check_l.pop()\n",
        "\n",
        "    if len(check_l) == 0: # 다 비워지면 1, 아니면 0으로 처리\n",
        "        answer = 1\n",
        "    else:\n",
        "        answer = 0\n",
        "\n",
        "    return answer"
      ],
      "metadata": {
        "id": "Hqhd4VltTJRW"
      },
      "execution_count": 59,
      "outputs": []
    },
    {
      "cell_type": "code",
      "source": [
        "solution('baabaa')"
      ],
      "metadata": {
        "colab": {
          "base_uri": "https://localhost:8080/"
        },
        "id": "Ktf-e-2FTSHO",
        "outputId": "56529cb3-430f-441e-8422-a9fd10d8706f"
      },
      "execution_count": 60,
      "outputs": [
        {
          "output_type": "execute_result",
          "data": {
            "text/plain": [
              "1"
            ]
          },
          "metadata": {},
          "execution_count": 60
        }
      ]
    },
    {
      "cell_type": "code",
      "source": [
        "solution('cdcd')"
      ],
      "metadata": {
        "colab": {
          "base_uri": "https://localhost:8080/"
        },
        "id": "po96PPlcTUc2",
        "outputId": "97833859-dce0-4689-cd65-e27983efc13b"
      },
      "execution_count": 62,
      "outputs": [
        {
          "output_type": "execute_result",
          "data": {
            "text/plain": [
              "0"
            ]
          },
          "metadata": {},
          "execution_count": 62
        }
      ]
    }
  ]
}