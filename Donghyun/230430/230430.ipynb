{
  "nbformat": 4,
  "nbformat_minor": 0,
  "metadata": {
    "colab": {
      "provenance": []
    },
    "kernelspec": {
      "name": "python3",
      "display_name": "Python 3"
    },
    "language_info": {
      "name": "python"
    }
  },
  "cells": [
    {
      "cell_type": "markdown",
      "source": [
        "공통문제"
      ],
      "metadata": {
        "id": "ZL8deqZ8T1ia"
      }
    },
    {
      "cell_type": "code",
      "execution_count": null,
      "metadata": {
        "id": "Upbpe61-SnzC"
      },
      "outputs": [],
      "source": [
        "def solution(citations):\n",
        "    lst = []\n",
        "    \n",
        "    # 1부터 citations의 길이만큼 반복 (h)\n",
        "    for n in range(1, len(citations)+1):\n",
        "        up = 0\n",
        "        for c in citations:\n",
        "            if c >= n: # 인용수가 h보다 크면\n",
        "                up += 1 # 이를 count\n",
        "        if up >= n: # h번 이상 인용된 논문이 h편 이상이면\n",
        "            lst.append(n) # append\n",
        "            \n",
        "    if len(lst) >= 1:\n",
        "        return max(lst)\n",
        "    else:\n",
        "        return 0"
      ]
    },
    {
      "cell_type": "markdown",
      "source": [
        "개인문제\n",
        "https://school.programmers.co.kr/learn/courses/30/lessons/131128"
      ],
      "metadata": {
        "id": "dzNXxsUbhpUd"
      }
    },
    {
      "cell_type": "code",
      "source": [
        "from collections import Counter\n",
        "def solution(X, Y):\n",
        "\n",
        "    # X, Y의 각각 요소들을 Counter로 나타내고, key의 set을 구함\n",
        "    X_set = set(Counter(X).keys())\n",
        "    Y_set = set(Counter(Y).keys())\n",
        "    print(\"X_set: \", X_set)\n",
        "    print(\"Y_set: \", Y_set)\n",
        "    \n",
        "    # set의 교집합\n",
        "    intersec = X_set.intersection(Y_set)\n",
        "    print(\"intersection: \", intersec)\n",
        "    \n",
        "    # intersec가 없으면 -1로 처리\n",
        "    if len(intersec) == 0:\n",
        "        return \"-1\"\n",
        "    \n",
        "    # 혹시나 0만 있으면 0으로 리턴 처리\n",
        "    if intersec == {'0'}:\n",
        "        return \"0\"\n",
        "    \n",
        "    # 짝을 지어야 하니 적은 쪽 개수를 count해서 이를 문자열로 저장\n",
        "    result = ''\n",
        "    for i in intersec:\n",
        "        cnt = min(Counter(X)[i], Counter(Y)[i])\n",
        "        result += i * cnt # 개수 만큼 반복해서 더해줌\n",
        "    print(\"result: \", result)\n",
        "    print(\"final: \", sorted(list(result), reverse = True))\n",
        "    \n",
        "    return \"\".join(sorted(list(result), reverse = True))"
      ],
      "metadata": {
        "id": "TKuS4R0NhoBR"
      },
      "execution_count": 13,
      "outputs": []
    },
    {
      "cell_type": "code",
      "source": [
        "solution(\"100\", \"2345\")"
      ],
      "metadata": {
        "colab": {
          "base_uri": "https://localhost:8080/",
          "height": 90
        },
        "id": "xi2-FZRqh0uD",
        "outputId": "804c7d23-db36-4c1b-fa5f-43d504611a91"
      },
      "execution_count": 14,
      "outputs": [
        {
          "output_type": "stream",
          "name": "stdout",
          "text": [
            "X_set:  {'0', '1'}\n",
            "Y_set:  {'3', '2', '4', '5'}\n",
            "intersection:  set()\n"
          ]
        },
        {
          "output_type": "execute_result",
          "data": {
            "text/plain": [
              "'-1'"
            ],
            "application/vnd.google.colaboratory.intrinsic+json": {
              "type": "string"
            }
          },
          "metadata": {},
          "execution_count": 14
        }
      ]
    },
    {
      "cell_type": "code",
      "source": [
        "solution(\"12321\", \"42531\")"
      ],
      "metadata": {
        "colab": {
          "base_uri": "https://localhost:8080/",
          "height": 127
        },
        "id": "LI6f5nyrhoUB",
        "outputId": "06855946-6bad-4817-ed45-7ded6c9a8104"
      },
      "execution_count": 15,
      "outputs": [
        {
          "output_type": "stream",
          "name": "stdout",
          "text": [
            "X_set:  {'3', '2', '1'}\n",
            "Y_set:  {'3', '4', '2', '1', '5'}\n",
            "intersection:  {'3', '2', '1'}\n",
            "result:  321\n",
            "final:  ['3', '2', '1']\n"
          ]
        },
        {
          "output_type": "execute_result",
          "data": {
            "text/plain": [
              "'321'"
            ],
            "application/vnd.google.colaboratory.intrinsic+json": {
              "type": "string"
            }
          },
          "metadata": {},
          "execution_count": 15
        }
      ]
    },
    {
      "cell_type": "code",
      "source": [
        "solution(\"5525\", \"1255\")"
      ],
      "metadata": {
        "colab": {
          "base_uri": "https://localhost:8080/",
          "height": 127
        },
        "id": "Gfi0O_r4iBUp",
        "outputId": "33fc2b44-b2ec-4d6f-bc98-6f63d516f551"
      },
      "execution_count": 16,
      "outputs": [
        {
          "output_type": "stream",
          "name": "stdout",
          "text": [
            "X_set:  {'2', '5'}\n",
            "Y_set:  {'5', '2', '1'}\n",
            "intersection:  {'2', '5'}\n",
            "result:  255\n",
            "final:  ['5', '5', '2']\n"
          ]
        },
        {
          "output_type": "execute_result",
          "data": {
            "text/plain": [
              "'552'"
            ],
            "application/vnd.google.colaboratory.intrinsic+json": {
              "type": "string"
            }
          },
          "metadata": {},
          "execution_count": 16
        }
      ]
    },
    {
      "cell_type": "code",
      "source": [],
      "metadata": {
        "id": "Q_Jd54tFiClh"
      },
      "execution_count": null,
      "outputs": []
    }
  ]
}