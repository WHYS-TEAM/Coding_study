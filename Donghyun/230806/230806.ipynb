{
  "nbformat": 4,
  "nbformat_minor": 0,
  "metadata": {
    "colab": {
      "provenance": []
    },
    "kernelspec": {
      "name": "python3",
      "display_name": "Python 3"
    },
    "language_info": {
      "name": "python"
    }
  },
  "cells": [
    {
      "cell_type": "code",
      "execution_count": 6,
      "metadata": {
        "id": "Mdkc4Tl1ADK7"
      },
      "outputs": [],
      "source": [
        "def solution(n, words):\n",
        "    word_lst = []\n",
        "    idx_dict = {}\n",
        "\n",
        "    for i, word in enumerate(words):\n",
        "        real_idx = i % n # 실제 index 계산\n",
        "\n",
        "        if real_idx in idx_dict.keys():\n",
        "            idx_dict[real_idx] += 1\n",
        "        else:\n",
        "            idx_dict[real_idx] = 1\n",
        "\n",
        "        if i > 0: # 두 번째 부터만 탈락자가 생길 수 있음\n",
        "            comparison = word_lst[i-1] # word list의 마지막 요소 끌고 오기\n",
        "            if comparison[-1] != word[0] or word in word_lst: # 단어가 서로 틀리거나 이미 나온 적이 있는 경우\n",
        "                print(\"!!\", idx_dict, word_lst)\n",
        "                return [real_idx+1, idx_dict[real_idx]]\n",
        "        word_lst.append(word) # 단어를 list에 추가\n",
        "\n",
        "        print(idx_dict, word_lst)\n",
        "\n",
        "    return [0, 0]"
      ]
    },
    {
      "cell_type": "code",
      "source": [
        "solution(3, [\"tank\", \"kick\", \"know\", \"wheel\", \"land\", \"dream\", \"mother\", \"robot\", \"tank\"])"
      ],
      "metadata": {
        "colab": {
          "base_uri": "https://localhost:8080/"
        },
        "id": "fy_xOiadAm09",
        "outputId": "5e3804fd-604c-48a4-aab1-f86a673cbc3b"
      },
      "execution_count": 7,
      "outputs": [
        {
          "output_type": "stream",
          "name": "stdout",
          "text": [
            "{0: 1} ['tank']\n",
            "{0: 1, 1: 1} ['tank', 'kick']\n",
            "{0: 1, 1: 1, 2: 1} ['tank', 'kick', 'know']\n",
            "{0: 2, 1: 1, 2: 1} ['tank', 'kick', 'know', 'wheel']\n",
            "{0: 2, 1: 2, 2: 1} ['tank', 'kick', 'know', 'wheel', 'land']\n",
            "{0: 2, 1: 2, 2: 2} ['tank', 'kick', 'know', 'wheel', 'land', 'dream']\n",
            "{0: 3, 1: 2, 2: 2} ['tank', 'kick', 'know', 'wheel', 'land', 'dream', 'mother']\n",
            "{0: 3, 1: 3, 2: 2} ['tank', 'kick', 'know', 'wheel', 'land', 'dream', 'mother', 'robot']\n",
            "!! {0: 3, 1: 3, 2: 3} ['tank', 'kick', 'know', 'wheel', 'land', 'dream', 'mother', 'robot']\n"
          ]
        },
        {
          "output_type": "execute_result",
          "data": {
            "text/plain": [
              "[3, 3]"
            ]
          },
          "metadata": {},
          "execution_count": 7
        }
      ]
    },
    {
      "cell_type": "code",
      "source": [
        "solution(2, [\"hello\", \"one\", \"even\", \"never\", \"now\", \"world\", \"draw\"])"
      ],
      "metadata": {
        "colab": {
          "base_uri": "https://localhost:8080/"
        },
        "id": "HWniBLpgBJSr",
        "outputId": "e76a5744-9d90-4a43-e533-349db6f95739"
      },
      "execution_count": 8,
      "outputs": [
        {
          "output_type": "stream",
          "name": "stdout",
          "text": [
            "{0: 1} ['hello']\n",
            "{0: 1, 1: 1} ['hello', 'one']\n",
            "{0: 2, 1: 1} ['hello', 'one', 'even']\n",
            "{0: 2, 1: 2} ['hello', 'one', 'even', 'never']\n",
            "!! {0: 3, 1: 2} ['hello', 'one', 'even', 'never']\n"
          ]
        },
        {
          "output_type": "execute_result",
          "data": {
            "text/plain": [
              "[1, 3]"
            ]
          },
          "metadata": {},
          "execution_count": 8
        }
      ]
    },
    {
      "cell_type": "code",
      "source": [],
      "metadata": {
        "id": "s_1EwosCBPvz"
      },
      "execution_count": null,
      "outputs": []
    }
  ]
}