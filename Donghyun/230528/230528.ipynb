{
  "nbformat": 4,
  "nbformat_minor": 0,
  "metadata": {
    "colab": {
      "provenance": []
    },
    "kernelspec": {
      "name": "python3",
      "display_name": "Python 3"
    },
    "language_info": {
      "name": "python"
    }
  },
  "cells": [
    {
      "cell_type": "markdown",
      "source": [
        "공통문제"
      ],
      "metadata": {
        "id": "4Dvfc1NexIWN"
      }
    },
    {
      "cell_type": "code",
      "execution_count": 1,
      "metadata": {
        "id": "uL75tvAow7uW"
      },
      "outputs": [],
      "source": [
        "from collections import deque\n",
        "def solution(n, computers):\n",
        "    answer = 0\n",
        "    \n",
        "    # 방문한 노드 저장\n",
        "    global_visited = []\n",
        "    \n",
        "    # 그래프 정보 저장\n",
        "    info_dict = {i:set() for i in range(n)}\n",
        "    \n",
        "    # 그래프 만들기\n",
        "    for i, com in enumerate(computers):\n",
        "        for j, _ in enumerate(com):\n",
        "            if computers[i][j] == 1 and i != j:\n",
        "                info_dict[i].add(j)\n",
        "    \n",
        "    \n",
        "    for key, value in info_dict.items():\n",
        "        print(\"info_dict key\", key, value)\n",
        "        if value != set() and key not in global_visited:\n",
        "            queue = deque([key])\n",
        "            \n",
        "            while queue:\n",
        "                n = queue.popleft()\n",
        "                if n not in global_visited:\n",
        "                    global_visited.append(n)\n",
        "                    queue += info_dict[n] - set(global_visited)\n",
        "                    \n",
        "            answer += 1\n",
        "        \n",
        "        if value == set():\n",
        "            answer += 1\n",
        "    \n",
        "    \n",
        "    return answer"
      ]
    },
    {
      "cell_type": "code",
      "source": [
        "solution(3, [[1, 1, 0], [1, 1, 0], [0, 0, 1]])"
      ],
      "metadata": {
        "colab": {
          "base_uri": "https://localhost:8080/"
        },
        "id": "E6mGZIzfxtVp",
        "outputId": "c37f971a-c486-43d0-a7bb-39de3694da8f"
      },
      "execution_count": 2,
      "outputs": [
        {
          "output_type": "stream",
          "name": "stdout",
          "text": [
            "info_dict key 0 {1}\n",
            "info_dict key 1 {0}\n",
            "info_dict key 2 set()\n"
          ]
        },
        {
          "output_type": "execute_result",
          "data": {
            "text/plain": [
              "2"
            ]
          },
          "metadata": {},
          "execution_count": 2
        }
      ]
    },
    {
      "cell_type": "markdown",
      "source": [
        "개인문제"
      ],
      "metadata": {
        "id": "aNAc2U8-cLbM"
      }
    },
    {
      "cell_type": "code",
      "source": [
        "def solution(board, moves):\n",
        "    answer = 0\n",
        "    crab_lst = []\n",
        "    \n",
        "    for m in moves:\n",
        "        for i in range(len(board)):\n",
        "            if board[i][m-1] != 0:\n",
        "                crab_lst.append(board[i][m-1])\n",
        "                board[i][m-1] = 0 # 인형을 뽑았으니 0으로 처리\n",
        "                \n",
        "                # 뽑은 인형이 2개 이상일 때만 터짐 발생\n",
        "                if len(crab_lst) > 1:\n",
        "                    if crab_lst[-1] == crab_lst[-2]: # last 2개가 같으면\n",
        "                        crab_lst.pop()\n",
        "                        crab_lst.pop()\n",
        "                        answer += 2\n",
        "                        \n",
        "                break # 한 번 뽑았다면 다음 move로 넘어가야 함\n",
        "                        \n",
        "    return answer "
      ],
      "metadata": {
        "id": "YPFBQam_x-qI"
      },
      "execution_count": 3,
      "outputs": []
    },
    {
      "cell_type": "code",
      "source": [
        "solution([[0,0,0,0,0],[0,0,1,0,3],[0,2,5,0,1],[4,2,4,4,2],[3,5,1,3,1]], [1,5,3,5,1,2,1,4])"
      ],
      "metadata": {
        "colab": {
          "base_uri": "https://localhost:8080/"
        },
        "id": "vquKPk-jcM1n",
        "outputId": "5a8106f3-97a9-4306-f37f-a81dc4c8d22d"
      },
      "execution_count": 4,
      "outputs": [
        {
          "output_type": "execute_result",
          "data": {
            "text/plain": [
              "4"
            ]
          },
          "metadata": {},
          "execution_count": 4
        }
      ]
    }
  ]
}