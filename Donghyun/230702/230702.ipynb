{
  "nbformat": 4,
  "nbformat_minor": 0,
  "metadata": {
    "colab": {
      "provenance": []
    },
    "kernelspec": {
      "name": "python3",
      "display_name": "Python 3"
    },
    "language_info": {
      "name": "python"
    }
  },
  "cells": [
    {
      "cell_type": "code",
      "execution_count": 1,
      "metadata": {
        "id": "RE83jvoxF456"
      },
      "outputs": [],
      "source": [
        "def solution(name):\n",
        "\n",
        "    updown = 0 # 위아래로 이동한 횟수\n",
        "\n",
        "    lr = len(name) - 1 # 좌우로 이동한 횟수\n",
        "\n",
        "    for i, n in enumerate(name):\n",
        "        updown += min(ord(n) - ord('A'), ord('Z') - ord(n) + 1) # A에서 이동할 때, Z에서 이동할 때 중 최소\n",
        "\n",
        "        # 현재 위치에서 가장 가까운 'A'가 아닌 문자의 인덱스, 맨 마지막일 때는 len와 동일\n",
        "        next = i + 1\n",
        "        while next < len(name) and name[next] == 'A':\n",
        "            next += 1\n",
        "\n",
        "        #print(\"next? \", i, next)\n",
        "\n",
        "        #print(\"2번: \", 2*i + len(name) - next) # 오른쪽으로 이동 후, 왼쪽으로 이동\n",
        "        # 2*i => 오른쪽으로 이동했다가 왼쪽으로 이동해야 하니, i만큼 이동했으면 원복하게 되므로 * 2를 하게 되는 것\n",
        "        #print(\"3번: \", i + 2 * (len(name) - next)) # 왼쪽으로 이동 후, 오른쪽으로 이동\n",
        "        # 2*(len(name) - next) => next까지 이동한 만큼 원복하므로 * 2\n",
        "        lr = min([lr, 2*i + len(name) - next, i + 2 * (len(name) - next)])\n",
        "\n",
        "    return updown + lr"
      ]
    },
    {
      "cell_type": "code",
      "source": [
        "solution(\"JEROEN\")"
      ],
      "metadata": {
        "colab": {
          "base_uri": "https://localhost:8080/"
        },
        "id": "_ISmNB0bF8rH",
        "outputId": "917fba0d-f5ac-4e8f-c806-5fe9b35d0c30"
      },
      "execution_count": 2,
      "outputs": [
        {
          "output_type": "execute_result",
          "data": {
            "text/plain": [
              "56"
            ]
          },
          "metadata": {},
          "execution_count": 2
        }
      ]
    },
    {
      "cell_type": "code",
      "source": [
        "solution(\"JAN\")"
      ],
      "metadata": {
        "colab": {
          "base_uri": "https://localhost:8080/"
        },
        "id": "BTpJe_ptF_vu",
        "outputId": "0083a35e-a6bb-4fae-befc-c429fa9ade82"
      },
      "execution_count": 3,
      "outputs": [
        {
          "output_type": "execute_result",
          "data": {
            "text/plain": [
              "23"
            ]
          },
          "metadata": {},
          "execution_count": 3
        }
      ]
    },
    {
      "cell_type": "code",
      "source": [
        "solution(\"JANAAZ\")"
      ],
      "metadata": {
        "colab": {
          "base_uri": "https://localhost:8080/"
        },
        "id": "kegm5StaGBnm",
        "outputId": "c1901fc6-5dc1-4277-848d-91ce3f01948d"
      },
      "execution_count": 4,
      "outputs": [
        {
          "output_type": "execute_result",
          "data": {
            "text/plain": [
              "27"
            ]
          },
          "metadata": {},
          "execution_count": 4
        }
      ]
    },
    {
      "cell_type": "code",
      "source": [],
      "metadata": {
        "id": "Qx_wagvmGKr-"
      },
      "execution_count": null,
      "outputs": []
    }
  ]
}