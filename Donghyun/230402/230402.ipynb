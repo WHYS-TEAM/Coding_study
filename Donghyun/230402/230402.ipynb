{
  "nbformat": 4,
  "nbformat_minor": 0,
  "metadata": {
    "colab": {
      "provenance": []
    },
    "kernelspec": {
      "name": "python3",
      "display_name": "Python 3"
    },
    "language_info": {
      "name": "python"
    }
  },
  "cells": [
    {
      "cell_type": "markdown",
      "source": [
        "# 공통문제\n",
        "https://school.programmers.co.kr/learn/courses/30/lessons/86971"
      ],
      "metadata": {
        "id": "ACAHF1bAdJUX"
      }
    },
    {
      "cell_type": "code",
      "execution_count": 5,
      "metadata": {
        "id": "GgJicr9mDQ1F"
      },
      "outputs": [],
      "source": [
        "import copy\n",
        "from collections import deque\n",
        "\n",
        "def BFS(graph, root):\n",
        "    visited = []\n",
        "    queue = deque([root])\n",
        "    \n",
        "    while queue:\n",
        "        n = queue.popleft()\n",
        "        if n not in visited:\n",
        "            visited.append(n)\n",
        "            queue += graph[n]\n",
        "    return visited\n",
        "\n",
        "\n",
        "def solution(n, wires):\n",
        "    \n",
        "    graph = dict()\n",
        "\n",
        "    # 그래프 모양을 저장\n",
        "    for w in wires:\n",
        "        x = w[0]\n",
        "        y = w[1]\n",
        "        \n",
        "        if x in graph.keys():\n",
        "            graph[x].append(y)\n",
        "        else:\n",
        "            graph[x] = []\n",
        "            graph[x].append(y)\n",
        "            \n",
        "        if y in graph.keys():\n",
        "            graph[y].append(x)\n",
        "        else:\n",
        "            graph[y] = []\n",
        "            graph[y].append(x)\n",
        "        \n",
        "    print(\"graph: \", graph)\n",
        "        \n",
        "    diff_result = []\n",
        "    \n",
        "    # wires 전부 다 반복\n",
        "    for target_1, target_2 in wires:\n",
        "        # 원본을 해치면 안되니 카피, deepcopy 써야함.\n",
        "        graph_2 = copy.deepcopy(graph)\n",
        "        \n",
        "        # 각각 쌍방으로 연결된 것을 지움\n",
        "        graph_2[target_1].remove(target_2)\n",
        "        graph_2[target_2].remove(target_1)\n",
        "        \n",
        "        # BFS로 노드 개수 확인\n",
        "        result = BFS(graph_2, target_1)\n",
        "        result_2 = BFS(graph_2, target_2)\n",
        "        \n",
        "        # 둘 간의 차이 계산\n",
        "        diff = abs(len(result) - len(result_2))\n",
        "        diff_result.append(diff)    \n",
        "    \n",
        "    return min(diff_result)"
      ]
    },
    {
      "cell_type": "code",
      "source": [
        "solution(9, [[1,3],[2,3],[3,4],[4,5],[4,6],[4,7],[7,8],[7,9]])"
      ],
      "metadata": {
        "colab": {
          "base_uri": "https://localhost:8080/"
        },
        "id": "FORAaVJWDWCz",
        "outputId": "42963d58-a627-469e-bdbf-f19c6db6b789"
      },
      "execution_count": 6,
      "outputs": [
        {
          "output_type": "stream",
          "name": "stdout",
          "text": [
            "graph:  {1: [3], 3: [1, 2, 4], 2: [3], 4: [3, 5, 6, 7], 5: [4], 6: [4], 7: [4, 8, 9], 8: [7], 9: [7]}\n"
          ]
        },
        {
          "output_type": "execute_result",
          "data": {
            "text/plain": [
              "3"
            ]
          },
          "metadata": {},
          "execution_count": 6
        }
      ]
    },
    {
      "cell_type": "markdown",
      "source": [
        "# 개별문제\n",
        "https://school.programmers.co.kr/learn/courses/30/lessons/17682"
      ],
      "metadata": {
        "id": "0coolD14dNKA"
      }
    },
    {
      "cell_type": "code",
      "source": [
        "import re\n",
        "\n",
        "def solution(dartResult):\n",
        "    bonus = {'S' : 1, 'D' : 2, 'T' : 3}\n",
        "    option = {'' : 1, '*' : 2, '#' : -1}\n",
        "    p = re.compile('([0-9]+)([SDT])([*#]?)') # +: 1개 이상, ?: 0개 or 1개, []: 해당 문자열에 해당하면 찾음\n",
        "    dart = p.findall(dartResult)\n",
        "    print(dart)\n",
        "    for i in range(len(dart)):\n",
        "        if dart[i][2] == '*' and i > 0: # i가 0보다 클때는 전에꺼 2배 해줌\n",
        "            dart[i-1] *= 2\n",
        "        dart[i] = int(dart[i][0]) ** bonus[dart[i][1]] * option[dart[i][2]] # 보너스로 제곱해주고 option에 맞게 곱해줌\n",
        "\n",
        "    answer = sum(dart)\n",
        "    return answer"
      ],
      "metadata": {
        "id": "LczdvzE6DZ6S"
      },
      "execution_count": 10,
      "outputs": []
    },
    {
      "cell_type": "code",
      "source": [
        "solution('1S2D*3T')"
      ],
      "metadata": {
        "colab": {
          "base_uri": "https://localhost:8080/"
        },
        "id": "P2oxo6_xdf66",
        "outputId": "1f0eb409-6359-488b-d437-517b05eab73f"
      },
      "execution_count": 11,
      "outputs": [
        {
          "output_type": "stream",
          "name": "stdout",
          "text": [
            "[('1', 'S', ''), ('2', 'D', '*'), ('3', 'T', '')]\n"
          ]
        },
        {
          "output_type": "execute_result",
          "data": {
            "text/plain": [
              "37"
            ]
          },
          "metadata": {},
          "execution_count": 11
        }
      ]
    },
    {
      "cell_type": "code",
      "source": [],
      "metadata": {
        "id": "ADtebWGtdjIy"
      },
      "execution_count": null,
      "outputs": []
    }
  ]
}