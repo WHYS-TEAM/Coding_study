{
  "nbformat": 4,
  "nbformat_minor": 0,
  "metadata": {
    "colab": {
      "provenance": []
    },
    "kernelspec": {
      "name": "python3",
      "display_name": "Python 3"
    },
    "language_info": {
      "name": "python"
    }
  },
  "cells": [
    {
      "cell_type": "markdown",
      "source": [
        "# 문제 1\n",
        "(https://school.programmers.co.kr/learn/courses/30/lessons/12906)"
      ],
      "metadata": {
        "id": "soO56ZxMXeLZ"
      }
    },
    {
      "cell_type": "code",
      "source": [
        "# 처음 생각한 방법 => IndexError 발생(빈 list일 경우 발생하는 케이스)\n",
        "def solution(arr):\n",
        "    answer = []\n",
        "    \n",
        "    for element in arr:\n",
        "        if element != answer[-1]:\n",
        "            answer.append(element)\n",
        "\n",
        "    return answer"
      ],
      "metadata": {
        "id": "NrRkyqCPWKId"
      },
      "execution_count": 1,
      "outputs": []
    },
    {
      "cell_type": "code",
      "source": [
        "solution([1,1,3,3,0,1,1])"
      ],
      "metadata": {
        "colab": {
          "base_uri": "https://localhost:8080/",
          "height": 303
        },
        "id": "lbLKXYKEWR-c",
        "outputId": "437aa796-e24c-41e6-8d07-bc9f37296ca0"
      },
      "execution_count": 2,
      "outputs": [
        {
          "output_type": "error",
          "ename": "IndexError",
          "evalue": "ignored",
          "traceback": [
            "\u001b[0;31m---------------------------------------------------------------------------\u001b[0m",
            "\u001b[0;31mIndexError\u001b[0m                                Traceback (most recent call last)",
            "\u001b[0;32m<ipython-input-2-a6fb51dc6967>\u001b[0m in \u001b[0;36m<module>\u001b[0;34m\u001b[0m\n\u001b[0;32m----> 1\u001b[0;31m \u001b[0msolution\u001b[0m\u001b[0;34m(\u001b[0m\u001b[0;34m[\u001b[0m\u001b[0;36m1\u001b[0m\u001b[0;34m,\u001b[0m\u001b[0;36m1\u001b[0m\u001b[0;34m,\u001b[0m\u001b[0;36m3\u001b[0m\u001b[0;34m,\u001b[0m\u001b[0;36m3\u001b[0m\u001b[0;34m,\u001b[0m\u001b[0;36m0\u001b[0m\u001b[0;34m,\u001b[0m\u001b[0;36m1\u001b[0m\u001b[0;34m,\u001b[0m\u001b[0;36m1\u001b[0m\u001b[0;34m]\u001b[0m\u001b[0;34m)\u001b[0m\u001b[0;34m\u001b[0m\u001b[0;34m\u001b[0m\u001b[0m\n\u001b[0m",
            "\u001b[0;32m<ipython-input-1-a70037ffeb19>\u001b[0m in \u001b[0;36msolution\u001b[0;34m(arr)\u001b[0m\n\u001b[1;32m      3\u001b[0m \u001b[0;34m\u001b[0m\u001b[0m\n\u001b[1;32m      4\u001b[0m     \u001b[0;32mfor\u001b[0m \u001b[0melement\u001b[0m \u001b[0;32min\u001b[0m \u001b[0marr\u001b[0m\u001b[0;34m:\u001b[0m\u001b[0;34m\u001b[0m\u001b[0;34m\u001b[0m\u001b[0m\n\u001b[0;32m----> 5\u001b[0;31m         \u001b[0;32mif\u001b[0m \u001b[0melement\u001b[0m \u001b[0;34m!=\u001b[0m \u001b[0manswer\u001b[0m\u001b[0;34m[\u001b[0m\u001b[0;34m-\u001b[0m\u001b[0;36m1\u001b[0m\u001b[0;34m]\u001b[0m\u001b[0;34m:\u001b[0m\u001b[0;34m\u001b[0m\u001b[0;34m\u001b[0m\u001b[0m\n\u001b[0m\u001b[1;32m      6\u001b[0m             \u001b[0manswer\u001b[0m\u001b[0;34m.\u001b[0m\u001b[0mappend\u001b[0m\u001b[0;34m(\u001b[0m\u001b[0melement\u001b[0m\u001b[0;34m)\u001b[0m\u001b[0;34m\u001b[0m\u001b[0;34m\u001b[0m\u001b[0m\n\u001b[1;32m      7\u001b[0m \u001b[0;34m\u001b[0m\u001b[0m\n",
            "\u001b[0;31mIndexError\u001b[0m: list index out of range"
          ]
        }
      ]
    },
    {
      "cell_type": "code",
      "source": [
        "# 내 풀이 : 빈 케이스를 그냥 if문으로 빼서 처리하는 방식을 선택.\n",
        "def solution(arr):\n",
        "    answer = []\n",
        "    \n",
        "    for idx, element in enumerate(arr):\n",
        "        if idx == 0:\n",
        "            answer.append(element)\n",
        "        else:\n",
        "            if element != answer[-1]:\n",
        "                answer.append(element)\n",
        "\n",
        "    return answer"
      ],
      "metadata": {
        "id": "hbO3txQDV2Ok"
      },
      "execution_count": null,
      "outputs": []
    },
    {
      "cell_type": "code",
      "source": [
        "# 다른 사람의 풀이를 보고 적용한 케이스: list[-1:]로 하면 에러가 안남\n",
        "def solution(arr):\n",
        "    answer = []\n",
        "    \n",
        "    for element in arr:\n",
        "        if [element] != answer[-1:]:\n",
        "            answer.append(element)\n",
        "\n",
        "    return answer"
      ],
      "metadata": {
        "id": "EKoOptxwWaKU"
      },
      "execution_count": 59,
      "outputs": []
    },
    {
      "cell_type": "code",
      "source": [
        "solution([1,1,3,3,0,1,1])"
      ],
      "metadata": {
        "colab": {
          "base_uri": "https://localhost:8080/"
        },
        "id": "ZC9yPR12Wk8E",
        "outputId": "4f08bd39-9e29-42c7-8b69-e9860554b4e0"
      },
      "execution_count": 60,
      "outputs": [
        {
          "output_type": "stream",
          "name": "stdout",
          "text": [
            "[]\n",
            "[1]\n",
            "[1]\n",
            "[3]\n",
            "[3]\n",
            "[0]\n",
            "[1]\n"
          ]
        },
        {
          "output_type": "execute_result",
          "data": {
            "text/plain": [
              "[1, 3, 0, 1]"
            ]
          },
          "metadata": {},
          "execution_count": 60
        }
      ]
    },
    {
      "cell_type": "markdown",
      "source": [
        "# 문제 2\n",
        "(https://school.programmers.co.kr/learn/courses/30/lessons/68935)"
      ],
      "metadata": {
        "id": "t0Twasopgiqy"
      }
    },
    {
      "cell_type": "code",
      "source": [
        "def solution(n):\n",
        "    answer = 0\n",
        "    \n",
        "    jin = []\n",
        "    switch = False\n",
        "    \n",
        "    for i in range(17, -1, -1):\n",
        "        if 1 <= n // (3 ** i) <= 2:\n",
        "            jin.append(n // (3 ** i))\n",
        "            n -= n // (3 ** i) * (3 ** i)\n",
        "            if switch == False:\n",
        "                switch = True\n",
        "        \n",
        "        elif n // (3 ** i) == 0 and switch == True:\n",
        "            jin.append(0)\n",
        "    \n",
        "    jin_vert = jin[-1::-1]\n",
        "    \n",
        "    for i in range(len(jin_vert)-1, -1, -1):\n",
        "        answer += (3 ** i) * int(jin_vert.pop(0))\n",
        "    \n",
        "    return answer"
      ],
      "metadata": {
        "id": "yGMhRnRovo0O"
      },
      "execution_count": 57,
      "outputs": []
    },
    {
      "cell_type": "code",
      "source": [
        "def solution(n):\n",
        "    tmp = ''\n",
        "    while n:\n",
        "        tmp += str(n % 3)\n",
        "        n = n // 3\n",
        "        print(n)\n",
        "    \n",
        "    print(tmp)\n",
        "    answer = int(tmp, 3)\n",
        "    return answer"
      ],
      "metadata": {
        "id": "W8SiDRhddvMd"
      },
      "execution_count": 61,
      "outputs": []
    },
    {
      "cell_type": "code",
      "source": [
        "solution(45)"
      ],
      "metadata": {
        "colab": {
          "base_uri": "https://localhost:8080/"
        },
        "id": "ESIWPm4gd_yN",
        "outputId": "9d33caf6-1bb5-40bc-cf10-0c2b2266216e"
      },
      "execution_count": 62,
      "outputs": [
        {
          "output_type": "stream",
          "name": "stdout",
          "text": [
            "15\n",
            "5\n",
            "1\n",
            "0\n",
            "0021\n"
          ]
        },
        {
          "output_type": "execute_result",
          "data": {
            "text/plain": [
              "7"
            ]
          },
          "metadata": {},
          "execution_count": 62
        }
      ]
    },
    {
      "cell_type": "code",
      "source": [],
      "metadata": {
        "id": "wVNotr2ZwD2u"
      },
      "execution_count": null,
      "outputs": []
    }
  ]
}