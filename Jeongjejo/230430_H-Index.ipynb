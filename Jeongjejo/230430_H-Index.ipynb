{
 "cells": [
  {
   "cell_type": "markdown",
   "id": "5b728a6b",
   "metadata": {},
   "source": [
    "# Try#1"
   ]
  },
  {
   "cell_type": "code",
   "execution_count": 4,
   "id": "54ea975b",
   "metadata": {},
   "outputs": [
    {
     "name": "stdout",
     "output_type": "stream",
     "text": [
      "[0, 1, 3, 5, 6]\n",
      "\n",
      "h:0 인용 수 이상 인용된 논문은 count:5개\n",
      "h:1 인용 수 이상 인용된 논문은 count:4개\n",
      "h:3 인용 수 이상 인용된 논문은 count:3개\n",
      "\n",
      "최대 h값은 3\n",
      "\n"
     ]
    }
   ],
   "source": [
    "citations = [3, 0, 6, 1, 5]\n",
    "length = len(citations) \n",
    "result = list()\n",
    "sorted_citations = sorted(citations)\n",
    "print(sorted_citations)\n",
    "print()\n",
    "for idx, h in enumerate(sorted_citations): #h: 논문의 인용 수,  \n",
    "    count = length - idx # h번 이상 인용된 논문의 개수\n",
    "    if h <= count: # h번와 h번 이상 인용된 논문의 개수를 비교\n",
    "        print(f\"h:{h} 인용 수 이상 인용된 논문은 count:{count}개\")        \n",
    "        result.append(h)\n",
    "print()\n",
    "print(f\"최대 h값은 {result[-1]}\")\n",
    "print()"
   ]
  },
  {
   "cell_type": "markdown",
   "id": "e0b74e7f",
   "metadata": {},
   "source": [
    "테스트 1 〉\t실패 (0.10ms, 10.2MB)   \n",
    "테스트 2 〉\t실패 (0.13ms, 10.2MB)   \n",
    "테스트 3 〉\t실패 (0.11ms, 10.2MB)   \n",
    "테스트 4 〉\t실패 (0.18ms, 10.1MB)   \n",
    "테스트 5 〉\t실패 (0.12ms, 10.1MB)   \n",
    "테스트 6 〉\t실패 (0.14ms, 10.1MB)   \n",
    "테스트 7 〉\t실패 (0.05ms, 10.1MB)   \n",
    "테스트 8 〉\t실패 (0.01ms, 10.1MB)   \n",
    "테스트 9 〉\t실패 (런타임 에러)   \n",
    "테스트 10 〉\t실패 (0.06ms, 10MB)   \n",
    "테스트 11 〉\t통과 (0.15ms, 10.1MB)   \n",
    "테스트 12 〉\t실패 (0.02ms, 10.1MB)   \n",
    "테스트 13 〉\t실패 (0.16ms, 10.3MB)   \n",
    "테스트 14 〉\t실패 (0.14ms, 10.1MB)   \n",
    "테스트 15 〉\t실패 (0.14ms, 10.2MB)   \n",
    "테스트 16 〉\t통과 (0.01ms, 10.1MB)   "
   ]
  },
  {
   "cell_type": "markdown",
   "id": "9e402102",
   "metadata": {},
   "source": [
    "### h값의 후보를 인용된 논문의 수에서 탐색하는 부분에서 발생한 오류"
   ]
  },
  {
   "cell_type": "markdown",
   "id": "ae848116",
   "metadata": {},
   "source": [
    "# Try2"
   ]
  },
  {
   "cell_type": "code",
   "execution_count": 3,
   "id": "d2e38d47",
   "metadata": {},
   "outputs": [
    {
     "name": "stdout",
     "output_type": "stream",
     "text": [
      "[0, 1, 3, 5, 6]\n",
      "\n",
      "h:0 인용 수 이상 인용된 논문은 count:5개\n",
      "h:1 인용 수 이상 인용된 논문은 count:4개\n",
      "h:2 인용 수 이상 인용된 논문은 count:3개\n",
      "h:3 인용 수 이상 인용된 논문은 count:3개\n",
      "h:4 인용 수 이상 인용된 논문은 count:2개\n",
      "\n",
      "최대 h값은 3\n",
      "\n"
     ]
    }
   ],
   "source": [
    "citations = [3, 0, 6, 1, 5]\n",
    "length = len(citations)\n",
    "sorted_citations = sorted(citations)\n",
    "print(sorted_citations)\n",
    "print()\n",
    "for h in range(length+1):\n",
    "    count = 0\n",
    "    for idx, i in enumerate(sorted_citations):\n",
    "        if (h <= i):\n",
    "            count += 1 # h번 인용된 논문의 수\n",
    "            \n",
    "    print(f\"h:{h} 인용 수 이상 인용된 논문은 count:{count}개\")    \n",
    "    if (count < h): #h 값과 h번 인용된 논문의 수 비교   \n",
    "        h_max = h - 1\n",
    "        break \n",
    "    else :\n",
    "        h_max = h\n",
    "answer = h_max\n",
    "print()\n",
    "print(f\"최대 h값은 {answer}\")\n",
    "print()"
   ]
  },
  {
   "cell_type": "code",
   "execution_count": null,
   "id": "3f767c4b",
   "metadata": {},
   "outputs": [],
   "source": []
  },
  {
   "cell_type": "code",
   "execution_count": null,
   "id": "2d062ea5",
   "metadata": {},
   "outputs": [],
   "source": [
    "def solution(citations):\n",
    "    length = len(citations)\n",
    "    result = list()\n",
    "    for idx, i in enumerate(sorted(citations)):\n",
    "        count = length - idx\n",
    "        if i <= count:\n",
    "            result.append(i)\n",
    "    answer = result[-1]\n",
    "    return answer"
   ]
  },
  {
   "cell_type": "code",
   "execution_count": null,
   "id": "2af78f6c",
   "metadata": {},
   "outputs": [],
   "source": [
    "def solution(citations):\n",
    "    length = len(citations)\n",
    "    sorted_citations = sorted(citations)\n",
    "    for h in range(length+1):\n",
    "        count = 0\n",
    "        for idx, i in enumerate(sorted_citations):\n",
    "            if (h <= i):\n",
    "                count += 1 # h번 인용된 논문의 수\n",
    "\n",
    "        print(f\"h:{h} 인용 수 이상 인용된 논문은 count:{count}개\")    \n",
    "        if (count < h): #h 값과 h번 인용된 논문의 수 비교   \n",
    "            h_max = h - 1\n",
    "            break \n",
    "        else :\n",
    "            h_max = h\n",
    "    return h_max"
   ]
  },
  {
   "cell_type": "code",
   "execution_count": null,
   "id": "dabfe7a5",
   "metadata": {},
   "outputs": [],
   "source": []
  }
 ],
 "metadata": {
  "kernelspec": {
   "display_name": "Python 3 (ipykernel)",
   "language": "python",
   "name": "python3"
  },
  "language_info": {
   "codemirror_mode": {
    "name": "ipython",
    "version": 3
   },
   "file_extension": ".py",
   "mimetype": "text/x-python",
   "name": "python",
   "nbconvert_exporter": "python",
   "pygments_lexer": "ipython3",
   "version": "3.8.12"
  }
 },
 "nbformat": 4,
 "nbformat_minor": 5
}
