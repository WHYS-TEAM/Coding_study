{
 "cells": [
  {
   "cell_type": "code",
   "execution_count": null,
   "id": "7dcafd86",
   "metadata": {},
   "outputs": [],
   "source": [
    "def solution(n, words):\n",
    "    bucket_list = [] # 버킷 리스트 - 반복되는지 체크\n",
    "    before_word = words[0][0] # 바로 이전 단어\n",
    "    cnt,end_idx = 0,0 # cnt: 탐색 중인 단어의 index 몇번째 턴인지, end_idx: \n",
    "    isend = False # isend: 게임이 종료 되었는지 체크\n",
    "    \n",
    "    for idx, word in enumerate(words):\n",
    "        \n",
    "        if idx % n == 0:\n",
    "            cnt += 1\n",
    "        if before_word[-1] == word[0] and word not in bucket_list: # bucket_list에 단어가 있는지, 끝말 첫말이 맞는지 체크\n",
    "            bucket_list.append(word)\n",
    "            before_word = word # 이전 단어 업데이트\n",
    "        else:\n",
    "            isend = True\n",
    "            end_idx = idx\n",
    "            break\n",
    "            \n",
    "    if isend:\n",
    "        return [end_idx%n+1,cnt]\n",
    "    else:\n",
    "        return [0,0]"
   ]
  }
 ],
 "metadata": {
  "kernelspec": {
   "display_name": "Python 3 (ipykernel)",
   "language": "python",
   "name": "python3"
  },
  "language_info": {
   "codemirror_mode": {
    "name": "ipython",
    "version": 3
   },
   "file_extension": ".py",
   "mimetype": "text/x-python",
   "name": "python",
   "nbconvert_exporter": "python",
   "pygments_lexer": "ipython3",
   "version": "3.8.12"
  }
 },
 "nbformat": 4,
 "nbformat_minor": 5
}
